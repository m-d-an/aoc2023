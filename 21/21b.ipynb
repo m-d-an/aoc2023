{
 "cells": [
  {
   "cell_type": "code",
   "execution_count": 70,
   "metadata": {},
   "outputs": [],
   "source": [
    "import math"
   ]
  },
  {
   "cell_type": "code",
   "execution_count": 71,
   "metadata": {},
   "outputs": [],
   "source": [
    "file = open('input.txt', 'r')\n",
    "input = file.readlines()\n",
    "file.close()"
   ]
  },
  {
   "cell_type": "code",
   "execution_count": 72,
   "metadata": {},
   "outputs": [],
   "source": [
    "min_row = 0\n",
    "min_col = 0\n",
    "max_row = len(input)\n",
    "max_col = len(input[0].strip())\n",
    "start = (0,0)"
   ]
  },
  {
   "cell_type": "code",
   "execution_count": 73,
   "metadata": {},
   "outputs": [],
   "source": [
    "def print_grid():\n",
    "    for i in range(min_row, max_row, 1):\n",
    "        line = \"\"\n",
    "        for j in range(min_col, max_col, 1):\n",
    "            if (i,j) in rocks:\n",
    "                line += '#'\n",
    "            elif (i,j) in reachable:\n",
    "                line += 'O'\n",
    "            elif start == (i,j):\n",
    "                line += 'S'\n",
    "            else:\n",
    "                line += '.'\n",
    "        print(line)\n",
    "    print()"
   ]
  },
  {
   "cell_type": "code",
   "execution_count": 74,
   "metadata": {},
   "outputs": [],
   "source": [
    "def reset_rocks():\n",
    "    rocks = []\n",
    "    for i,row in enumerate(input):\n",
    "        for j,char in enumerate(row.strip()):\n",
    "            if char == '#':\n",
    "                rocks.append((i,j))\n",
    "            elif char == 'S':\n",
    "                start = (i,j)\n",
    "    #print_grid()\n",
    "    return rocks, start"
   ]
  },
  {
   "cell_type": "code",
   "execution_count": 75,
   "metadata": {},
   "outputs": [],
   "source": [
    "def get_number_of_reachable_tiles(step_target):\n",
    "    min_row = 0\n",
    "    min_col = 0\n",
    "    max_row = len(input)\n",
    "    max_col = len(input[0].strip())\n",
    "\n",
    "    rocks, start = reset_rocks()\n",
    "\n",
    "    reachable = []\n",
    "    last_steps = []\n",
    "    checked = []\n",
    "    steps = 0\n",
    "    last_steps.append(start)\n",
    "    while steps<step_target:\n",
    "        steps += 1\n",
    "\n",
    "        new_steps = []\n",
    "        to_check = []\n",
    "\n",
    "        for coord in last_steps:\n",
    "            to_check = to_check + [(coord[0]-1,coord[1]),(coord[0]+1,coord[1]),(coord[0],coord[1]-1),(coord[0],coord[1]+1)]\n",
    "        to_check = list(set(to_check))\n",
    "\n",
    "        for coord in to_check:\n",
    "            if coord[0] < min_row:\n",
    "                #print(coord)\n",
    "                for rock in rocks.copy():\n",
    "                    rocks.append((rock[0]-len(input),rock[1]))\n",
    "                min_row = min_row - len(input)\n",
    "                rocks = list(set(rocks))\n",
    "            if coord[0] > max_row-1:\n",
    "                #print(coord)\n",
    "                for rock in rocks.copy():\n",
    "                    rocks.append((rock[0]+len(input),rock[1]))\n",
    "                max_row = max_row + len(input)\n",
    "                rocks = list(set(rocks))\n",
    "            if coord[1] < min_col:\n",
    "                #print(coord)\n",
    "                for rock in rocks.copy():\n",
    "                    rocks.append((rock[0],rock[1]-len(input[0].strip())))\n",
    "                min_col = min_col - len(input[0].strip())\n",
    "                rocks = list(set(rocks))                    \n",
    "            if coord[1] > max_col-1:\n",
    "                #print(coord)\n",
    "                for rock in rocks.copy():\n",
    "                    rocks.append((rock[0],rock[1]+len(input[0].strip())))\n",
    "                max_col = max_col + len(input[0].strip())\n",
    "                rocks = list(set(rocks))   \n",
    "            if coord not in rocks:\n",
    "                new_steps.append(coord)\n",
    "        #remove duplicates and already checked coords\n",
    "        new_steps = list(set(new_steps) - set(checked))\n",
    "        #print(f\"new steps: {new_steps}\")\n",
    "\n",
    "        if steps%2==step_target%2:     \n",
    "            reachable = reachable+new_steps\n",
    "\n",
    "        checked = checked + new_steps\n",
    "        last_steps = new_steps\n",
    "    return(len(reachable))"
   ]
  },
  {
   "cell_type": "code",
   "execution_count": 76,
   "metadata": {},
   "outputs": [
    {
     "name": "stdout",
     "output_type": "stream",
     "text": [
      "[3725, 32896, 91055]\n"
     ]
    }
   ],
   "source": [
    "target = 26501365\n",
    "example_steps = [target % max_col, target % max_col + max_col, target % max_col + 2 * max_col]\n",
    "#example_steps = [6,10,50,100]\n",
    "examples = []\n",
    "for steps in example_steps:\n",
    "    examples.append(get_number_of_reachable_tiles(steps))\n",
    "print(examples)"
   ]
  },
  {
   "cell_type": "code",
   "execution_count": 77,
   "metadata": {},
   "outputs": [],
   "source": [
    "# examples = [3725, 32896, 91055]\n",
    "# 593174122420825"
   ]
  },
  {
   "cell_type": "code",
   "execution_count": 78,
   "metadata": {},
   "outputs": [
    {
     "name": "stdout",
     "output_type": "stream",
     "text": [
      "593174122420825\n"
     ]
    }
   ],
   "source": [
    "# m: difference f(x=2) and f(x=1)\n",
    "m = examples[1] - examples[0]\n",
    "# n: difference f(x=3) and f(x=2)\n",
    "n = examples[2] - examples[1]\n",
    "# 2a = n - m\n",
    "a = (n - m) // 2\n",
    "# 3a + b = m\n",
    "b = m - 3 * a\n",
    "# a + b + c = f(x=1)\n",
    "c = examples[0] - b - a\n",
    "\n",
    "x = math.ceil(target / len(input))\n",
    "\n",
    "result = a * x**2 + b * x + c\n",
    "print(result)"
   ]
  }
 ],
 "metadata": {
  "kernelspec": {
   "display_name": "Python 3",
   "language": "python",
   "name": "python3"
  },
  "language_info": {
   "codemirror_mode": {
    "name": "ipython",
    "version": 3
   },
   "file_extension": ".py",
   "mimetype": "text/x-python",
   "name": "python",
   "nbconvert_exporter": "python",
   "pygments_lexer": "ipython3",
   "version": "3.10.9"
  }
 },
 "nbformat": 4,
 "nbformat_minor": 2
}
