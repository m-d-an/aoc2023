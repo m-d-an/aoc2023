{
 "cells": [
  {
   "cell_type": "code",
   "execution_count": 54,
   "metadata": {},
   "outputs": [],
   "source": [
    "import re"
   ]
  },
  {
   "cell_type": "code",
   "execution_count": 55,
   "metadata": {},
   "outputs": [],
   "source": [
    "file = open('input.txt', 'r')\n",
    "lines = file.readlines()"
   ]
  },
  {
   "cell_type": "code",
   "execution_count": 56,
   "metadata": {},
   "outputs": [],
   "source": [
    "def text_to_digit(text):\n",
    "    text = re.sub(\"one\", \"one1one\",text)\n",
    "    text = re.sub(\"two\", \"two2two\",text)\n",
    "    text = re.sub(\"three\", \"three3three\",text)\n",
    "    text = re.sub(\"four\", \"four4four\",text)\n",
    "    text = re.sub(\"five\", \"five5five\",text)\n",
    "    text = re.sub(\"six\", \"six6six\",text)\n",
    "    text = re.sub(\"seven\", \"seven7seven\",text)\n",
    "    text = re.sub(\"eight\", \"eight8eight\",text)\n",
    "    text = re.sub(\"nine\", \"nine9nine\",text)\n",
    "    return text"
   ]
  },
  {
   "cell_type": "code",
   "execution_count": 57,
   "metadata": {},
   "outputs": [
    {
     "name": "stdout",
     "output_type": "stream",
     "text": [
      "Sum: 53334\n"
     ]
    }
   ],
   "source": [
    "# solution a\n",
    "sum_coords = 0\n",
    "for line in lines:\n",
    "    digits = re.sub(\"[^0-9]\", \"\",line)\n",
    "    sum_coords += int(digits[0]+digits[-1])\n",
    "print(\"Sum: \"+str(sum_coords))"
   ]
  },
  {
   "cell_type": "code",
   "execution_count": 58,
   "metadata": {},
   "outputs": [
    {
     "name": "stdout",
     "output_type": "stream",
     "text": [
      "Sum: 52834\n"
     ]
    }
   ],
   "source": [
    "# solution b\n",
    "sum_coords = 0\n",
    "for line in lines:\n",
    "    line = text_to_digit(line)\n",
    "    digits = re.sub(\"[^0-9]\", \"\",line)\n",
    "    sum_coords += int(digits[0]+digits[-1])\n",
    "    \n",
    "print(\"Sum: \"+str(sum_coords))"
   ]
  }
 ],
 "metadata": {
  "kernelspec": {
   "display_name": "Python 3",
   "language": "python",
   "name": "python3"
  },
  "language_info": {
   "codemirror_mode": {
    "name": "ipython",
    "version": 3
   },
   "file_extension": ".py",
   "mimetype": "text/x-python",
   "name": "python",
   "nbconvert_exporter": "python",
   "pygments_lexer": "ipython3",
   "version": "3.10.9"
  }
 },
 "nbformat": 4,
 "nbformat_minor": 2
}
