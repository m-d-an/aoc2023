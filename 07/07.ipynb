{
 "cells": [
  {
   "cell_type": "code",
   "execution_count": 1,
   "metadata": {},
   "outputs": [],
   "source": [
    "file = open('input.txt', 'r')\n",
    "input = file.readlines()\n",
    "file.close()"
   ]
  },
  {
   "cell_type": "code",
   "execution_count": 2,
   "metadata": {},
   "outputs": [],
   "source": [
    "hands = {}"
   ]
  },
  {
   "cell_type": "code",
   "execution_count": 3,
   "metadata": {},
   "outputs": [],
   "source": [
    "for line in input:\n",
    "    entry = line.split()\n",
    "    #add hand value to cards\n",
    "    hand_value = entry[0]\n",
    "    three_of_a_kind = False\n",
    "    two_of_a_kind = False\n",
    "    for c in \"\".join(set(hand_value)):\n",
    "        if hand_value.count(c) == 5:\n",
    "            hand_value = 'A'+hand_value\n",
    "            break\n",
    "        elif hand_value.count(c) == 4:\n",
    "            hand_value = 'K'+hand_value\n",
    "            break\n",
    "        elif hand_value.count(c) == 3:\n",
    "            if two_of_a_kind:\n",
    "                hand_value = 'Q'+hand_value\n",
    "                break \n",
    "            else:\n",
    "                three_of_a_kind = True    \n",
    "        elif hand_value.count(c) == 2:\n",
    "            if three_of_a_kind:\n",
    "                hand_value = 'Q'+hand_value\n",
    "                break \n",
    "            if two_of_a_kind:\n",
    "                hand_value = 'T'+hand_value\n",
    "                break \n",
    "            else:\n",
    "                two_of_a_kind = True        \n",
    "    if len(hand_value) == 5:\n",
    "        if three_of_a_kind:\n",
    "            hand_value = 'J'+hand_value\n",
    "        elif two_of_a_kind:\n",
    "            hand_value = '9'+hand_value\n",
    "        else:\n",
    "            hand_value = '8'+hand_value\n",
    "    hands[hand_value] = entry[1]"
   ]
  },
  {
   "cell_type": "code",
   "execution_count": 4,
   "metadata": {},
   "outputs": [
    {
     "name": "stdout",
     "output_type": "stream",
     "text": [
      "246795406\n"
     ]
    }
   ],
   "source": [
    "alphabet = \"AKQJT98765432\"\n",
    "sorted_keys = sorted(hands.keys(), key=lambda word: [alphabet.index(c) for c in word], reverse = True)\n",
    "total_winnings = 0\n",
    "for i,key in enumerate(sorted_keys):\n",
    "    total_winnings += (i+1) * int(hands[key])\n",
    "print(total_winnings)\n"
   ]
  }
 ],
 "metadata": {
  "kernelspec": {
   "display_name": "Python 3",
   "language": "python",
   "name": "python3"
  },
  "language_info": {
   "codemirror_mode": {
    "name": "ipython",
    "version": 3
   },
   "file_extension": ".py",
   "mimetype": "text/x-python",
   "name": "python",
   "nbconvert_exporter": "python",
   "pygments_lexer": "ipython3",
   "version": "3.10.9"
  }
 },
 "nbformat": 4,
 "nbformat_minor": 2
}
