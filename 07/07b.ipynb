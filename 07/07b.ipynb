{
 "cells": [
  {
   "cell_type": "code",
   "execution_count": 1,
   "metadata": {},
   "outputs": [],
   "source": [
    "file = open('input.txt', 'r')\n",
    "input = file.readlines()\n",
    "file.close()"
   ]
  },
  {
   "cell_type": "code",
   "execution_count": 2,
   "metadata": {},
   "outputs": [],
   "source": [
    "hands = {}"
   ]
  },
  {
   "cell_type": "code",
   "execution_count": 3,
   "metadata": {},
   "outputs": [],
   "source": [
    "for line in input:\n",
    "    entry = line.split()\n",
    "    #add hand value to cards\n",
    "    hand_value = entry[0]\n",
    "    #print(hand_value)\n",
    "\n",
    "    # sort cards in hand by number of occurences\n",
    "    chars = {}\n",
    "    for c in \"\".join(set(hand_value)):  \n",
    "        chars[c] = hand_value.count(c)\n",
    "    chars = sorted(chars.items(), key=lambda x:x[1], reverse = True)\n",
    "    \n",
    "    three_of_a_kind = False\n",
    "    two_of_a_kind = False\n",
    "    Js_used = False\n",
    "    for c in chars:  \n",
    "        c = c[0]\n",
    "        if c== 'J':\n",
    "            if hand_value.count('J') == 5:\n",
    "                hand_value = 'A'+hand_value\n",
    "            continue\n",
    "        number_cards = hand_value.count(c)\n",
    "        if not Js_used:\n",
    "            number_cards += hand_value.count('J')\n",
    "            Js_used = True\n",
    "\n",
    "        if number_cards == 5:\n",
    "            hand_value = 'A'+hand_value\n",
    "            #print(\"5 of a kind\")\n",
    "            break\n",
    "        elif number_cards == 4:\n",
    "            hand_value = 'K'+hand_value\n",
    "            #print(\"4 of a kind\")\n",
    "            break\n",
    "        elif number_cards == 3:\n",
    "            if two_of_a_kind:\n",
    "                hand_value = 'Q'+hand_value\n",
    "                #print(\"Full house\")\n",
    "                break \n",
    "            else:\n",
    "                three_of_a_kind = True    \n",
    "        elif number_cards == 2:\n",
    "            if three_of_a_kind:\n",
    "                hand_value = 'Q'+hand_value\n",
    "                #print(\"Full house\")\n",
    "                break \n",
    "            if two_of_a_kind:\n",
    "                hand_value = '9'+hand_value\n",
    "                #print(\"Two pairs\")\n",
    "                break \n",
    "            else:\n",
    "                two_of_a_kind = True        \n",
    "    if len(hand_value) == 5:\n",
    "        if three_of_a_kind:\n",
    "            hand_value = 'T'+hand_value\n",
    "            #print(\"3 of a kind\")\n",
    "        elif two_of_a_kind:\n",
    "            hand_value = '8'+hand_value\n",
    "            #print(\"One pair\")\n",
    "        else:\n",
    "            hand_value = '7'+hand_value\n",
    "            #print(\"High card\")\n",
    "    hands[hand_value] = entry[1]"
   ]
  },
  {
   "cell_type": "code",
   "execution_count": 4,
   "metadata": {},
   "outputs": [
    {
     "name": "stdout",
     "output_type": "stream",
     "text": [
      "249356515\n"
     ]
    }
   ],
   "source": [
    "alphabet = \"AKQT98765432J\"\n",
    "sorted_keys = sorted(hands.keys(), key=lambda word: [alphabet.index(c) for c in word], reverse = True)\n",
    "total_winnings = 0\n",
    "for i,key in enumerate(sorted_keys):\n",
    "    total_winnings += (i+1) * int(hands[key])\n",
    "print(total_winnings)\n"
   ]
  }
 ],
 "metadata": {
  "kernelspec": {
   "display_name": "Python 3",
   "language": "python",
   "name": "python3"
  },
  "language_info": {
   "codemirror_mode": {
    "name": "ipython",
    "version": 3
   },
   "file_extension": ".py",
   "mimetype": "text/x-python",
   "name": "python",
   "nbconvert_exporter": "python",
   "pygments_lexer": "ipython3",
   "version": "3.10.9"
  }
 },
 "nbformat": 4,
 "nbformat_minor": 2
}
