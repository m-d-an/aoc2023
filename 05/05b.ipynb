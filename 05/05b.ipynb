{
 "cells": [
  {
   "cell_type": "code",
   "execution_count": 1,
   "metadata": {},
   "outputs": [],
   "source": [
    "file = open('input.txt', 'r')\n",
    "input = file.readlines()\n",
    "file.close()"
   ]
  },
  {
   "cell_type": "code",
   "execution_count": 2,
   "metadata": {},
   "outputs": [],
   "source": [
    "#list of seeds\n",
    "seeds = list(map(int, input[0].split()[1:]))\n",
    "#print(seeds)"
   ]
  },
  {
   "cell_type": "code",
   "execution_count": 3,
   "metadata": {},
   "outputs": [],
   "source": [
    "#list of maps (indices 0-6)\n",
    "maps = []\n",
    "map_names = []\n",
    "for line in input[1:]:\n",
    "    if line == '':\n",
    "        continue\n",
    "    elif line[0].isalpha():\n",
    "        #print(line.strip())\n",
    "        #create new map\n",
    "        maps.append([])\n",
    "        map_names.append(line.strip())\n",
    "    elif line[0].isdigit():\n",
    "        #fill latest map\n",
    "        maps[-1].append(list(map(int, line.split())))\n",
    "        #print(maps[-1])"
   ]
  },
  {
   "cell_type": "code",
   "execution_count": 4,
   "metadata": {},
   "outputs": [],
   "source": [
    "def check_dest_ranges(dest_range, map_index):\n",
    "    #print(\"check_dest: \"+str(dest_range)+ \" - index: \"+str(map_index))\n",
    "    if map_index == 7:\n",
    "        #print(\"return \"+str(dest_range[0]))\n",
    "        return dest_range[0]\n",
    "    else:\n",
    "        lowest_dests = []\n",
    "        for mapping in maps[map_index]:\n",
    "            #print(mapping)\n",
    "            #skip, if ranges are disjoint\n",
    "            if (dest_range[1]<=mapping[1] or dest_range[0]>=(mapping[1]+mapping[2])):\n",
    "                #print(\"no match, skip\")\n",
    "                continue\n",
    "            else:\n",
    "                #extract corresponding range\n",
    "                matching_range = (max(dest_range[0],mapping[1]),min(dest_range[1],mapping[1]+mapping[2]))\n",
    "                #print(\"match: \"+str(matching_range))\n",
    "                difference = mapping[0]-mapping[1]\n",
    "                mapped_dest = (matching_range[0] + difference,matching_range[1] + difference)\n",
    "                #print(\"mapped destination: \"+str(mapped_dest))\n",
    "                lowest_dests.append(check_dest_ranges(mapped_dest, map_index+1))\n",
    "                #check potential lower and upper ranges\n",
    "                if dest_range[0] < matching_range[0]:\n",
    "                    rest_range_lower = (dest_range[0],matching_range[0])\n",
    "                    #print(\"lower rest: \"+str(rest_range_lower))\n",
    "                    lowest_dests.append(check_dest_ranges(rest_range_lower, map_index))\n",
    "                if matching_range[1] < dest_range[1]:\n",
    "                    rest_range_upper = (matching_range[1],dest_range[1])\n",
    "                    #print(\"upper rest: \"+str(rest_range_upper))\n",
    "                    lowest_dests.append(check_dest_ranges(rest_range_upper, map_index))\n",
    "        if len(lowest_dests) == 0:\n",
    "            lowest_dests.append(check_dest_ranges(dest_range, map_index+1))        \n",
    "    return min(lowest_dests)"
   ]
  },
  {
   "cell_type": "code",
   "execution_count": 5,
   "metadata": {},
   "outputs": [
    {
     "name": "stdout",
     "output_type": "stream",
     "text": [
      "50855035\n"
     ]
    }
   ],
   "source": [
    "final_destinations = []\n",
    "for j, start in enumerate(seeds):\n",
    "    #skip every second seed, as it means the range now\n",
    "    if j%2 == 1:\n",
    "        continue\n",
    "    else:\n",
    "        dest_range = (start,start+seeds[j+1])\n",
    "        #print(\"\\nseed range: \"+str(dest_range))\n",
    "        final_destinations.append(check_dest_ranges(dest_range,0))\n",
    "print(min(final_destinations))\n"
   ]
  }
 ],
 "metadata": {
  "kernelspec": {
   "display_name": "Python 3",
   "language": "python",
   "name": "python3"
  },
  "language_info": {
   "codemirror_mode": {
    "name": "ipython",
    "version": 3
   },
   "file_extension": ".py",
   "mimetype": "text/x-python",
   "name": "python",
   "nbconvert_exporter": "python",
   "pygments_lexer": "ipython3",
   "version": "3.10.9"
  }
 },
 "nbformat": 4,
 "nbformat_minor": 2
}
