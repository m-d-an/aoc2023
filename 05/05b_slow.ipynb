{
 "cells": [
  {
   "cell_type": "code",
   "execution_count": 1,
   "metadata": {},
   "outputs": [],
   "source": [
    "file = open('input.txt', 'r')\n",
    "input = file.readlines()\n",
    "file.close()"
   ]
  },
  {
   "cell_type": "code",
   "execution_count": 2,
   "metadata": {},
   "outputs": [],
   "source": [
    "#list of seeds\n",
    "seeds = list(map(int, input[0].split()[1:]))\n",
    "#print(seeds)"
   ]
  },
  {
   "cell_type": "code",
   "execution_count": 3,
   "metadata": {},
   "outputs": [],
   "source": [
    "#list of maps\n",
    "maps = []\n",
    "map_names = []\n",
    "for line in input[1:]:\n",
    "    if line == '':\n",
    "        continue\n",
    "    elif line[0].isalpha():\n",
    "        #print(line.strip())\n",
    "        #create new map\n",
    "        maps.append([])\n",
    "        map_names.append(line.strip())\n",
    "    elif line[0].isdigit():\n",
    "        #fill latest map\n",
    "        maps[-1].append(list(map(int, line.split())))\n",
    "        #print(maps[-1])"
   ]
  },
  {
   "cell_type": "code",
   "execution_count": 4,
   "metadata": {},
   "outputs": [
    {
     "name": "stdout",
     "output_type": "stream",
     "text": [
      "\n",
      "seed range: 194657215 - 381670036\n",
      "\n",
      "seed range: 1093203236 - 1099280387\n",
      "\n",
      "seed range: 44187305 - 192909754\n"
     ]
    }
   ],
   "source": [
    "final_destinations = []\n",
    "for j, start in enumerate(seeds):\n",
    "    #skip every second seed, as it means the range now\n",
    "    if j%2 == 1:\n",
    "        continue\n",
    "    print(\"\\nseed range: \"+str(start)+\" - \"+str(start+seeds[j+1]))\n",
    "    for seed in range(start, start+seeds[j+1], 1):\n",
    "        #print(seed)\n",
    "        dest = seed\n",
    "        #use every map for each seed\n",
    "        for i,single_map in enumerate(maps):\n",
    "            #print(map_names[i])\n",
    "            #find corresponding map entry\n",
    "            for entry in single_map:\n",
    "                if entry[1] <= dest and entry[1]+entry[2] > dest:\n",
    "                    #print(\"entry: \"+str(entry))\n",
    "                    dest = entry[0] + dest - entry[1]\n",
    "                    #print(\"new dest: \"+str(dest))\n",
    "                    mapping_found = True\n",
    "                    break\n",
    "            #if no mapping was found, dest will not change\n",
    "        final_destinations.append(dest)\n",
    "print(min(final_destinations))\n"
   ]
  }
 ],
 "metadata": {
  "kernelspec": {
   "display_name": "Python 3",
   "language": "python",
   "name": "python3"
  },
  "language_info": {
   "codemirror_mode": {
    "name": "ipython",
    "version": 3
   },
   "file_extension": ".py",
   "mimetype": "text/x-python",
   "name": "python",
   "nbconvert_exporter": "python",
   "pygments_lexer": "ipython3",
   "version": "3.10.9"
  }
 },
 "nbformat": 4,
 "nbformat_minor": 2
}
