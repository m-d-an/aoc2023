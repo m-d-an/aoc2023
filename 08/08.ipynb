{
 "cells": [
  {
   "cell_type": "code",
   "execution_count": 1,
   "metadata": {},
   "outputs": [],
   "source": [
    "file = open('input.txt', 'r')\n",
    "input = file.readlines()\n",
    "file.close()"
   ]
  },
  {
   "cell_type": "code",
   "execution_count": 2,
   "metadata": {},
   "outputs": [],
   "source": [
    "class Node:\n",
    "    def __init__(self, id, left=None, right=None):\n",
    "        self.id = id\n",
    "        self.left = left\n",
    "        self.right = right\n",
    "\n",
    "    def set_left(self, node):\n",
    "        self.left = node\n",
    "\n",
    "    def set_right(self, node):\n",
    "        self.right = node\n",
    "\n",
    "    def get_id(self):\n",
    "        return self.id\n",
    "    \n",
    "    def get_left(self):\n",
    "        return self.left\n",
    "    \n",
    "    def get_right(self):\n",
    "        return self.right\n",
    "\n",
    "    def __str__(self):\n",
    "        return f\"{self.id} - left {self.left.get_id()} - right {self.right.get_id()}\"\n"
   ]
  },
  {
   "cell_type": "code",
   "execution_count": 3,
   "metadata": {},
   "outputs": [],
   "source": [
    "directions = input[0].strip()\n",
    "nodes = {}\n",
    "\n",
    "for line in input[2:]:\n",
    "    linesplit = line.split()\n",
    "    #print(linesplit)\n",
    "    node = linesplit[0]\n",
    "    #print(node)\n",
    "    left = linesplit[2][1:4]\n",
    "    #print(left)\n",
    "    right = linesplit[3][:3]\n",
    "    #print(right)\n",
    "    #create new nodes if not existent\n",
    "    if left not in nodes.keys():\n",
    "        nodes[left] = (Node(left))\n",
    "    if right not in nodes.keys():\n",
    "        nodes[right] = (Node(right))\n",
    "    if node not in nodes.keys():\n",
    "        nodes[node] = (Node(node,nodes[left],nodes[right]))\n",
    "    else:\n",
    "        nodes[node].set_left(nodes[left])\n",
    "        nodes[node].set_right(nodes[right])\n"
   ]
  },
  {
   "cell_type": "code",
   "execution_count": 4,
   "metadata": {},
   "outputs": [
    {
     "name": "stdout",
     "output_type": "stream",
     "text": [
      "12737\n"
     ]
    }
   ],
   "source": [
    "#take directions\n",
    "step = 0\n",
    "node = nodes['AAA']\n",
    "#print(node)\n",
    "while(True):\n",
    "    current_dir = directions[step % len(directions)]\n",
    "    #print(current_dir)\n",
    "    if current_dir == 'L':\n",
    "        node = node.get_left()\n",
    "    elif current_dir == 'R':\n",
    "        node = node.get_right()\n",
    "    #print(node)\n",
    "    \n",
    "    step += 1\n",
    "    if node == nodes['ZZZ']:\n",
    "        print(step)\n",
    "        break"
   ]
  }
 ],
 "metadata": {
  "kernelspec": {
   "display_name": "Python 3",
   "language": "python",
   "name": "python3"
  },
  "language_info": {
   "codemirror_mode": {
    "name": "ipython",
    "version": 3
   },
   "file_extension": ".py",
   "mimetype": "text/x-python",
   "name": "python",
   "nbconvert_exporter": "python",
   "pygments_lexer": "ipython3",
   "version": "3.10.9"
  }
 },
 "nbformat": 4,
 "nbformat_minor": 2
}
