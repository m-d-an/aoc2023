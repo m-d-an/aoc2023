{
 "cells": [
  {
   "cell_type": "code",
   "execution_count": 15,
   "metadata": {},
   "outputs": [],
   "source": [
    "file = open('input.txt', 'r')\n",
    "input = file.readlines()\n",
    "file.close()"
   ]
  },
  {
   "cell_type": "code",
   "execution_count": 16,
   "metadata": {},
   "outputs": [],
   "source": [
    "class Node:\n",
    "    def __init__(self, id, left=None, right=None):\n",
    "        self.id = id\n",
    "        self.left = left\n",
    "        self.right = right\n",
    "        self.steps_to_destination = []\n",
    "\n",
    "    def set_left(self, node):\n",
    "        self.left = node\n",
    "\n",
    "    def set_right(self, node):\n",
    "        self.right = node\n",
    "\n",
    "    def get_id(self):\n",
    "        return self.id\n",
    "    \n",
    "    def get_left(self):\n",
    "        return self.left\n",
    "    \n",
    "    def get_right(self):\n",
    "        return self.right\n",
    "\n",
    "    def __str__(self):\n",
    "        return f\"{self.id} - left {self.left.get_id()} - right {self.right.get_id()}\"\n"
   ]
  },
  {
   "cell_type": "code",
   "execution_count": 17,
   "metadata": {},
   "outputs": [],
   "source": [
    "directions = input[0].strip()\n",
    "nodes = {}\n",
    "\n",
    "for line in input[2:]:\n",
    "    linesplit = line.split()\n",
    "    #print(linesplit)\n",
    "    node = linesplit[0]\n",
    "    #print(node)\n",
    "    left = linesplit[2][1:4]\n",
    "    #print(left)\n",
    "    right = linesplit[3][:3]\n",
    "    #print(right)\n",
    "    #create new nodes if not existent\n",
    "    if left not in nodes.keys():\n",
    "        nodes[left] = (Node(left))\n",
    "    if right not in nodes.keys():\n",
    "        nodes[right] = (Node(right))\n",
    "    if node not in nodes.keys():\n",
    "        nodes[node] = (Node(node,nodes[left],nodes[right]))\n",
    "    else:\n",
    "        nodes[node].set_left(nodes[left])\n",
    "        nodes[node].set_right(nodes[right])\n"
   ]
  },
  {
   "cell_type": "code",
   "execution_count": 18,
   "metadata": {},
   "outputs": [],
   "source": [
    "start_nodes = []\n",
    "for node in nodes.keys():\n",
    "    if node[2] == 'A':\n",
    "        start_nodes.append(nodes[node])"
   ]
  },
  {
   "cell_type": "code",
   "execution_count": 19,
   "metadata": {},
   "outputs": [
    {
     "name": "stdout",
     "output_type": "stream",
     "text": [
      "LPA - left QQN - right GNF\n",
      "XKA - left SFC - right CHQ\n",
      "QGA - left CGR - right SGM\n",
      "AAA - left LRV - right HJS\n",
      "HHA - left FLG - right VHN\n",
      "LTA - left KLS - right BFV\n"
     ]
    }
   ],
   "source": [
    "for node in start_nodes:\n",
    "    print(str(node))"
   ]
  },
  {
   "cell_type": "code",
   "execution_count": 20,
   "metadata": {},
   "outputs": [],
   "source": [
    "#take directions\n",
    "step = 0\n",
    "current_nodes = start_nodes\n",
    "while(True):\n",
    "    current_dir = directions[step % len(directions)]\n",
    "    #print(current_dir)\n",
    "    new_nodes = []\n",
    "    for node in current_nodes:\n",
    "        if current_dir == 'L':\n",
    "            new_nodes.append(node.get_left())\n",
    "        elif current_dir == 'R':\n",
    "            new_nodes.append(node.get_right())\n",
    "\n",
    "    step += 1\n",
    "\n",
    "    for i, node in enumerate(new_nodes):\n",
    "        if node.get_id()[2] == 'Z':\n",
    "            start_nodes[i].steps_to_destination.append(step)\n",
    "  \n",
    "    if step >= 100000:\n",
    "        break\n",
    "    else:\n",
    "        current_nodes = new_nodes"
   ]
  },
  {
   "cell_type": "code",
   "execution_count": 21,
   "metadata": {},
   "outputs": [
    {
     "name": "stdout",
     "output_type": "stream",
     "text": [
      "LPA - left QQN - right GNF\n",
      "18157\n",
      "36314\n",
      "54471\n",
      "72628\n",
      "90785\n",
      "XKA - left SFC - right CHQ\n",
      "11653\n",
      "23306\n",
      "34959\n",
      "46612\n",
      "58265\n",
      "69918\n",
      "81571\n",
      "93224\n",
      "QGA - left CGR - right SGM\n",
      "21409\n",
      "42818\n",
      "64227\n",
      "85636\n",
      "AAA - left LRV - right HJS\n",
      "12737\n",
      "25474\n",
      "38211\n",
      "50948\n",
      "63685\n",
      "76422\n",
      "89159\n",
      "HHA - left FLG - right VHN\n",
      "14363\n",
      "28726\n",
      "43089\n",
      "57452\n",
      "71815\n",
      "86178\n",
      "LTA - left KLS - right BFV\n",
      "15989\n",
      "31978\n",
      "47967\n",
      "63956\n",
      "79945\n",
      "95934\n",
      "lcm: 9064949303801\n"
     ]
    }
   ],
   "source": [
    "from math import lcm\n",
    "\n",
    "least_common_multiple = 1\n",
    "for node in start_nodes:\n",
    "    print(str(node))\n",
    "    for step in node.steps_to_destination:\n",
    "        print(step)\n",
    "    least_common_multiple = lcm(least_common_multiple, node.steps_to_destination[0])\n",
    "print(f\"lcm: {least_common_multiple}\")"
   ]
  }
 ],
 "metadata": {
  "kernelspec": {
   "display_name": "Python 3",
   "language": "python",
   "name": "python3"
  },
  "language_info": {
   "codemirror_mode": {
    "name": "ipython",
    "version": 3
   },
   "file_extension": ".py",
   "mimetype": "text/x-python",
   "name": "python",
   "nbconvert_exporter": "python",
   "pygments_lexer": "ipython3",
   "version": "3.10.9"
  }
 },
 "nbformat": 4,
 "nbformat_minor": 2
}
