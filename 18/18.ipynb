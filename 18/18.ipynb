{
 "cells": [
  {
   "cell_type": "code",
   "execution_count": 160,
   "metadata": {},
   "outputs": [],
   "source": [
    "import matplotlib.pyplot as plt\n",
    "from shapely import geometry\n",
    "import numpy as np"
   ]
  },
  {
   "cell_type": "code",
   "execution_count": 161,
   "metadata": {},
   "outputs": [],
   "source": [
    "file = open('input.txt', 'r')\n",
    "input = file.readlines()\n",
    "file.close()"
   ]
  },
  {
   "cell_type": "code",
   "execution_count": 162,
   "metadata": {},
   "outputs": [],
   "source": [
    "points = []\n",
    "edges = {}"
   ]
  },
  {
   "cell_type": "code",
   "execution_count": 163,
   "metadata": {},
   "outputs": [],
   "source": [
    "last_point = (0,0)\n",
    "polygon_length = 0\n",
    "points.append(last_point)\n",
    "for line in input:\n",
    "    linesplit = line.split()\n",
    "    length = int(linesplit[1])\n",
    "    polygon_length += length\n",
    "    if linesplit[0] == 'U':\n",
    "        new_point = (last_point[0], last_point[1]+length)\n",
    "    elif linesplit[0] == 'D':\n",
    "        new_point = (last_point[0], last_point[1]-length)\n",
    "    elif linesplit[0] == 'R':\n",
    "        new_point = (last_point[0]+length, last_point[1])\n",
    "    elif linesplit[0] == 'L':\n",
    "        new_point = (last_point[0]-length, last_point[1])\n",
    "    points.append(new_point)\n",
    "    edges[(last_point, new_point)] = linesplit[2][1:-1]\n",
    "    last_point = new_point\n"
   ]
  },
  {
   "cell_type": "code",
   "execution_count": 164,
   "metadata": {},
   "outputs": [
    {
     "data": {
      "image/png": "[encoded data removed]",
      "text/plain": [
       "<Figure size 640x480 with 1 Axes>"
      ]
     },
     "metadata": {},
     "output_type": "display_data"
    }
   ],
   "source": [
    "xs, ys = zip(*points)\n",
    "\n",
    "plt.figure()\n",
    "plt.plot(xs,ys) \n",
    "plt.show()"
   ]
  },
  {
   "cell_type": "code",
   "execution_count": 165,
   "metadata": {},
   "outputs": [],
   "source": [
    "\n",
    "def point_in_polygon(tuple):\n",
    "    line = geometry.LineString(points)\n",
    "    point = geometry.Point(tuple)\n",
    "    polygon = geometry.Polygon(line)\n",
    "    return polygon.contains(point)"
   ]
  },
  {
   "cell_type": "code",
   "execution_count": 166,
   "metadata": {},
   "outputs": [
    {
     "name": "stdout",
     "output_type": "stream",
     "text": [
      "290 191 -125 -122\n"
     ]
    }
   ],
   "source": [
    "max_x, max_y, min_x, min_y = 0, 0, 0, 0\n",
    "\n",
    "for point in points:\n",
    "    if point[0] > max_x:\n",
    "        max_x = point[0]\n",
    "    if point[1] > max_y:\n",
    "        max_y = point[1]\n",
    "    if point[0] < min_x:\n",
    "        min_x = point[0]\n",
    "    if point[1] < min_y:\n",
    "        min_y = point[1]\n",
    "print(max_x, max_y, min_x, min_y)\n",
    "\n",
    "points_in_polygon = 0\n",
    "for x in range(min_x, max_x, 1):\n",
    "    for y in range(min_y, max_y, 1):\n",
    "        if point_in_polygon((x,y)):\n",
    "            points_in_polygon += 1"
   ]
  },
  {
   "cell_type": "code",
   "execution_count": 167,
   "metadata": {},
   "outputs": [
    {
     "name": "stdout",
     "output_type": "stream",
     "text": [
      "3890 45171\n",
      "49061\n"
     ]
    }
   ],
   "source": [
    "print(polygon_length, points_in_polygon)\n",
    "print(polygon_length+points_in_polygon)"
   ]
  }
 ],
 "metadata": {
  "kernelspec": {
   "display_name": "Python 3",
   "language": "python",
   "name": "python3"
  },
  "language_info": {
   "codemirror_mode": {
    "name": "ipython",
    "version": 3
   },
   "file_extension": ".py",
   "mimetype": "text/x-python",
   "name": "python",
   "nbconvert_exporter": "python",
   "pygments_lexer": "ipython3",
   "version": "3.10.9"
  }
 },
 "nbformat": 4,
 "nbformat_minor": 2
}
