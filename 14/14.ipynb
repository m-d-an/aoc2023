{
 "cells": [
  {
   "cell_type": "code",
   "execution_count": 1,
   "metadata": {},
   "outputs": [],
   "source": [
    "file = open('input.txt', 'r')\n",
    "input = file.readlines()\n",
    "file.close()"
   ]
  },
  {
   "cell_type": "code",
   "execution_count": 2,
   "metadata": {},
   "outputs": [],
   "source": [
    "platform = {}"
   ]
  },
  {
   "cell_type": "code",
   "execution_count": 3,
   "metadata": {},
   "outputs": [],
   "source": [
    "def print_platform():\n",
    "    for i in range(len(input)):\n",
    "        line = \"\"\n",
    "        for j in range(len(input[0].strip())):\n",
    "            if (i,j) in platform.keys():\n",
    "                line += platform[(i,j)]\n",
    "            else:\n",
    "                line += '.'\n",
    "        print(line)"
   ]
  },
  {
   "cell_type": "code",
   "execution_count": 4,
   "metadata": {},
   "outputs": [],
   "source": [
    "\n",
    "for i,line in enumerate(input):\n",
    "    #print(line.strip())\n",
    "    for j, c in enumerate(line.strip()):\n",
    "        if c == '.':\n",
    "            continue\n",
    "        else:\n",
    "            platform[(i,j)] = c\n",
    "#print_platform()"
   ]
  },
  {
   "cell_type": "code",
   "execution_count": 5,
   "metadata": {},
   "outputs": [],
   "source": [
    "def roll_north():\n",
    "    updated_platform = platform.copy()\n",
    "    orig_coords = list(platform.keys()).copy()\n",
    "    for coord in orig_coords:\n",
    "        if platform[coord] == '#':\n",
    "            continue\n",
    "        new_coord = coord\n",
    "        while(new_coord[0]>0 and ((new_coord[0]-1,new_coord[1]) not in platform.keys())):\n",
    "            new_coord = (new_coord[0]-1, new_coord[1])\n",
    "            #print(coord)\n",
    "        del platform[coord]\n",
    "        platform[new_coord] = 'O'"
   ]
  },
  {
   "cell_type": "code",
   "execution_count": 6,
   "metadata": {},
   "outputs": [],
   "source": [
    "def compute_load():\n",
    "    load_sum = 0\n",
    "    lines = len(input)\n",
    "    for coord in platform.keys():\n",
    "        if platform[coord] == 'O':\n",
    "            load_sum += lines - coord[0]\n",
    "    return load_sum"
   ]
  },
  {
   "cell_type": "code",
   "execution_count": 7,
   "metadata": {},
   "outputs": [
    {
     "name": "stdout",
     "output_type": "stream",
     "text": [
      "108955\n"
     ]
    }
   ],
   "source": [
    "roll_north()\n",
    "#print_platform()\n",
    "print(compute_load())\n"
   ]
  }
 ],
 "metadata": {
  "kernelspec": {
   "display_name": "Python 3",
   "language": "python",
   "name": "python3"
  },
  "language_info": {
   "codemirror_mode": {
    "name": "ipython",
    "version": 3
   },
   "file_extension": ".py",
   "mimetype": "text/x-python",
   "name": "python",
   "nbconvert_exporter": "python",
   "pygments_lexer": "ipython3",
   "version": "3.10.9"
  }
 },
 "nbformat": 4,
 "nbformat_minor": 2
}
