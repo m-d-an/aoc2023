{
 "cells": [
  {
   "cell_type": "code",
   "execution_count": 1,
   "metadata": {},
   "outputs": [],
   "source": [
    "file = open('input.txt', 'r')\n",
    "input = file.readlines()\n",
    "file.close()"
   ]
  },
  {
   "cell_type": "code",
   "execution_count": 2,
   "metadata": {},
   "outputs": [],
   "source": [
    "platform = {}"
   ]
  },
  {
   "cell_type": "code",
   "execution_count": 3,
   "metadata": {},
   "outputs": [],
   "source": [
    "def print_platform():\n",
    "    for i in range(len(input)):\n",
    "        line = \"\"\n",
    "        for j in range(len(input[0].strip())):\n",
    "            if (i,j) in platform.keys():\n",
    "                line += platform[(i,j)]\n",
    "            else:\n",
    "                line += '.'\n",
    "        print(line)"
   ]
  },
  {
   "cell_type": "code",
   "execution_count": 4,
   "metadata": {},
   "outputs": [],
   "source": [
    "\n",
    "for i,line in enumerate(input):\n",
    "    #print(line.strip())\n",
    "    for j, c in enumerate(line.strip()):\n",
    "        if c == '.':\n",
    "            continue\n",
    "        else:\n",
    "            platform[(i,j)] = c\n",
    "#print_platform()"
   ]
  },
  {
   "cell_type": "code",
   "execution_count": 5,
   "metadata": {},
   "outputs": [],
   "source": [
    "def roll_into_direction(direction):\n",
    "    updated_platform = platform.copy()\n",
    "    orig_coords = list(platform.keys()).copy()\n",
    "    if direction == 'N' or direction == 'W':\n",
    "        orig_coords = sorted(orig_coords)\n",
    "        for coord in orig_coords:\n",
    "            if platform[coord] == '#':\n",
    "                continue\n",
    "            new_coord = coord\n",
    "            if (direction == 'N'):\n",
    "                while(new_coord[0]>0 and ((new_coord[0]-1,new_coord[1]) not in platform.keys())):\n",
    "                    new_coord = (new_coord[0]-1, new_coord[1])\n",
    "            elif (direction == 'W'):\n",
    "                while(new_coord[1]>0 and ((new_coord[0],new_coord[1]-1) not in platform.keys())):\n",
    "                    new_coord = (new_coord[0], new_coord[1]-1)\n",
    "            del platform[coord]\n",
    "            platform[new_coord] = 'O'\n",
    "    else:\n",
    "        orig_coords = sorted(orig_coords, reverse = True)\n",
    "        for coord in orig_coords:\n",
    "            if platform[coord] == '#':\n",
    "                continue\n",
    "            new_coord = coord\n",
    "            if (direction == 'E'):\n",
    "                while(new_coord[1]<len(input[0].strip())-1 and ((new_coord[0],new_coord[1]+1) not in platform.keys())):\n",
    "                    new_coord = (new_coord[0], new_coord[1]+1)\n",
    "            if (direction == 'S'):\n",
    "                while(new_coord[0]<len(input)-1 and ((new_coord[0]+1,new_coord[1]) not in platform.keys())):\n",
    "                    new_coord = (new_coord[0]+1, new_coord[1])\n",
    "            del platform[coord]\n",
    "            platform[new_coord] = 'O'\n",
    "        "
   ]
  },
  {
   "cell_type": "code",
   "execution_count": 6,
   "metadata": {},
   "outputs": [],
   "source": [
    "def compute_load():\n",
    "    load_sum = 0\n",
    "    lines = len(input)\n",
    "    for coord in platform.keys():\n",
    "        if platform[coord] == 'O':\n",
    "            load_sum += lines - coord[0]\n",
    "    return load_sum"
   ]
  },
  {
   "cell_type": "code",
   "execution_count": 7,
   "metadata": {},
   "outputs": [],
   "source": [
    "states = {}\n",
    "cycles = 1000000000"
   ]
  },
  {
   "cell_type": "code",
   "execution_count": 8,
   "metadata": {},
   "outputs": [],
   "source": [
    "def check_periods(cycle):\n",
    "    current_state = tuple(platform.keys())\n",
    "    if current_state in states:\n",
    "        print(f\"current cycle: {cycle} matches {states[current_state]}\")\n",
    "        #compute result \n",
    "        cycle_length = cycle - states[current_state]\n",
    "        rest = (cycles - cycle - 1) % cycle_length\n",
    "        #print(rest)\n",
    "        if (rest == 0):\n",
    "            print(compute_load())\n",
    "            return True\n",
    "    else:\n",
    "        states[current_state] = cycle\n",
    "    return False"
   ]
  },
  {
   "cell_type": "code",
   "execution_count": 9,
   "metadata": {},
   "outputs": [
    {
     "name": "stdout",
     "output_type": "stream",
     "text": [
      "current cycle: 106 matches 84\n",
      "current cycle: 107 matches 85\n",
      "current cycle: 108 matches 86\n",
      "current cycle: 109 matches 87\n",
      "current cycle: 110 matches 88\n",
      "current cycle: 111 matches 89\n",
      "current cycle: 112 matches 90\n",
      "current cycle: 113 matches 91\n",
      "current cycle: 114 matches 92\n",
      "current cycle: 115 matches 93\n",
      "current cycle: 116 matches 94\n",
      "current cycle: 117 matches 95\n",
      "current cycle: 118 matches 96\n",
      "current cycle: 119 matches 97\n",
      "106689\n"
     ]
    }
   ],
   "source": [
    "dirs = \"NWSE\"\n",
    "for i in range(cycles):\n",
    "#for i in range(3):\n",
    "    #print(f\"cycle {i+1}:\")\n",
    "    for j in range(4):\n",
    "        #print(f\"direction: {dirs[j]}\")\n",
    "        roll_into_direction(dirs[j])\n",
    "    if(check_periods(i)):\n",
    "        break\n",
    "\n"
   ]
  }
 ],
 "metadata": {
  "kernelspec": {
   "display_name": "Python 3",
   "language": "python",
   "name": "python3"
  },
  "language_info": {
   "codemirror_mode": {
    "name": "ipython",
    "version": 3
   },
   "file_extension": ".py",
   "mimetype": "text/x-python",
   "name": "python",
   "nbconvert_exporter": "python",
   "pygments_lexer": "ipython3",
   "version": "3.10.9"
  }
 },
 "nbformat": 4,
 "nbformat_minor": 2
}
