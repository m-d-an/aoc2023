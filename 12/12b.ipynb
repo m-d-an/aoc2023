{
 "cells": [
  {
   "cell_type": "markdown",
   "metadata": {},
   "source": [
    "# Ideas\n",
    "* find '?' spots, which have to be filled with either '.' oder '#'\n",
    "* memoization:\n",
    "    * refactor string list to tuple\n",
    "    * refactor recursion to step by step checking for next character"
   ]
  },
  {
   "cell_type": "code",
   "execution_count": 155,
   "metadata": {},
   "outputs": [],
   "source": [
    "import itertools\n",
    "import functools"
   ]
  },
  {
   "cell_type": "code",
   "execution_count": 156,
   "metadata": {},
   "outputs": [],
   "source": [
    "file = open('example.txt', 'r')\n",
    "input = file.readlines()\n",
    "file.close()"
   ]
  },
  {
   "cell_type": "code",
   "execution_count": 157,
   "metadata": {},
   "outputs": [],
   "source": [
    "# global\n",
    "permutations = []"
   ]
  },
  {
   "cell_type": "code",
   "execution_count": 158,
   "metadata": {},
   "outputs": [],
   "source": [
    "def get_arrangement(line):\n",
    "    arrangements = [len(list(g)) for k, g in itertools.groupby(line) if k == '#']\n",
    "    return arrangements"
   ]
  },
  {
   "cell_type": "code",
   "execution_count": 159,
   "metadata": {},
   "outputs": [],
   "source": [
    "def get_permutations_1(chars):\n",
    "    permutations = [''.join(x) for x in list(itertools.permutations(chars))]\n",
    "    print(f\"{len(permutations)} permutations\")\n",
    "    return set(permutations)"
   ]
  },
  {
   "cell_type": "code",
   "execution_count": 160,
   "metadata": {},
   "outputs": [],
   "source": [
    "@functools.lru_cache(maxsize=None)\n",
    "def check_positions(number_chars, spots, char_places = [], start_index = 0):\n",
    "    #print(number_chars, spots, char_places, start_index)\n",
    "    if number_chars == 0:\n",
    "        #print(char_places)\n",
    "        permutation = \"\"\n",
    "        for i in range(spots):\n",
    "            if i in char_places:\n",
    "                permutation += \"#\"\n",
    "            else:\n",
    "                permutation += \".\"\n",
    "        permutations.append(permutation)\n",
    "        return\n",
    "    end_index = spots - number_chars + 1\n",
    "    for i in range(start_index, end_index, 1):\n",
    "        char_places_branch = list(char_places)\n",
    "        char_places_branch.append(i)\n",
    "        check_positions(number_chars-1, spots, tuple(char_places_branch), i+1)\n",
    "    return\n"
   ]
  },
  {
   "cell_type": "code",
   "execution_count": 161,
   "metadata": {},
   "outputs": [],
   "source": [
    "def get_permutations_2(damaged, free_spaces):\n",
    "    permutations = []\n",
    "    check_positions(damaged, free_spaces)\n",
    "    return"
   ]
  },
  {
   "cell_type": "code",
   "execution_count": 162,
   "metadata": {},
   "outputs": [],
   "source": [
    "def try_arrangements(condition_record,group_of_damaged_springs):\n",
    "    damaged_springs_to_place = sum(group_of_damaged_springs) - sum(get_arrangement(condition_record))\n",
    "    free_spaces = condition_record.count('?')\n",
    "    print(f\"{damaged_springs_to_place}# in {free_spaces}? to place\")\n",
    "    to_place = \"\"\n",
    "    for i in range(damaged_springs_to_place):\n",
    "        to_place += '#'\n",
    "    for i in range(free_spaces-damaged_springs_to_place):\n",
    "        to_place += '.'\n",
    "    print(to_place)\n",
    "    #permutations = get_permutations_1(to_place)\n",
    "    get_permutations_2(damaged_springs_to_place, free_spaces)\n",
    "    #print(f\"{len(permutations)} reduced\")\n",
    "    #print(permutations)\n",
    "    sum_arrangements = 0\n",
    "    for p in permutations:\n",
    "        i = 0\n",
    "        record = condition_record\n",
    "        for j,c in enumerate(condition_record):\n",
    "            if c == '?':\n",
    "                record = record[:j] + p[i] + record[j+1:]\n",
    "                i += 1\n",
    "        if get_arrangement(record) == group_of_damaged_springs:\n",
    "            sum_arrangements += 1\n",
    "            #print(record)\n",
    "    return sum_arrangements"
   ]
  },
  {
   "cell_type": "code",
   "execution_count": 163,
   "metadata": {},
   "outputs": [
    {
     "name": "stdout",
     "output_type": "stream",
     "text": [
      "???.###????.###????.###????.###????.### [1, 1, 3, 1, 1, 3, 1, 1, 3, 1, 1, 3, 1, 1, 3]\n",
      "10# in 19? to place\n",
      "##########.........\n",
      "???.### 1,1,3 - 1 arrangements\n",
      ".??..??...?##.?.??..??...?##.?.??..??...?##.?.??..??...?##.?.??..??...?##. [1, 1, 3, 1, 1, 3, 1, 1, 3, 1, 1, 3, 1, 1, 3]\n",
      "15# in 29? to place\n",
      "###############..............\n"
     ]
    },
    {
     "ename": "KeyboardInterrupt",
     "evalue": "",
     "output_type": "error",
     "traceback": [
      "\u001b[0;31m---------------------------------------------------------------------------\u001b[0m",
      "\u001b[0;31mKeyboardInterrupt\u001b[0m                         Traceback (most recent call last)",
      "\u001b[1;32m/Users/dschlitt/github/aoc2023/aoc2023/12/12b.ipynb Cell 10\u001b[0m line \u001b[0;36m1\n\u001b[1;32m     <a href='vscode-notebook-cell:/Users/dschlitt/github/aoc2023/aoc2023/12/12b.ipynb#X12sZmlsZQ%3D%3D?line=9'>10</a>\u001b[0m     group_of_damaged_springs \u001b[39m+\u001b[39m\u001b[39m=\u001b[39m old_group_of_damaged_springs\n\u001b[1;32m     <a href='vscode-notebook-cell:/Users/dschlitt/github/aoc2023/aoc2023/12/12b.ipynb#X12sZmlsZQ%3D%3D?line=10'>11</a>\u001b[0m \u001b[39mprint\u001b[39m(condition_record, group_of_damaged_springs)\n\u001b[0;32m---> <a href='vscode-notebook-cell:/Users/dschlitt/github/aoc2023/aoc2023/12/12b.ipynb#X12sZmlsZQ%3D%3D?line=11'>12</a>\u001b[0m arrangements \u001b[39m=\u001b[39m try_arrangements(condition_record,group_of_damaged_springs)\n\u001b[1;32m     <a href='vscode-notebook-cell:/Users/dschlitt/github/aoc2023/aoc2023/12/12b.ipynb#X12sZmlsZQ%3D%3D?line=12'>13</a>\u001b[0m \u001b[39mprint\u001b[39m(\u001b[39mf\u001b[39m\u001b[39m\"\u001b[39m\u001b[39m{\u001b[39;00mline\u001b[39m.\u001b[39mstrip()\u001b[39m}\u001b[39;00m\u001b[39m - \u001b[39m\u001b[39m{\u001b[39;00marrangements\u001b[39m}\u001b[39;00m\u001b[39m arrangements\u001b[39m\u001b[39m\"\u001b[39m)\n\u001b[1;32m     <a href='vscode-notebook-cell:/Users/dschlitt/github/aoc2023/aoc2023/12/12b.ipynb#X12sZmlsZQ%3D%3D?line=13'>14</a>\u001b[0m total_arrangements \u001b[39m+\u001b[39m\u001b[39m=\u001b[39m arrangements\n",
      "\u001b[1;32m/Users/dschlitt/github/aoc2023/aoc2023/12/12b.ipynb Cell 10\u001b[0m line \u001b[0;36m1\n\u001b[1;32m     <a href='vscode-notebook-cell:/Users/dschlitt/github/aoc2023/aoc2023/12/12b.ipynb#X12sZmlsZQ%3D%3D?line=9'>10</a>\u001b[0m \u001b[39mprint\u001b[39m(to_place)\n\u001b[1;32m     <a href='vscode-notebook-cell:/Users/dschlitt/github/aoc2023/aoc2023/12/12b.ipynb#X12sZmlsZQ%3D%3D?line=10'>11</a>\u001b[0m \u001b[39m#permutations = get_permutations_1(to_place)\u001b[39;00m\n\u001b[0;32m---> <a href='vscode-notebook-cell:/Users/dschlitt/github/aoc2023/aoc2023/12/12b.ipynb#X12sZmlsZQ%3D%3D?line=11'>12</a>\u001b[0m get_permutations_2(damaged_springs_to_place, free_spaces)\n\u001b[1;32m     <a href='vscode-notebook-cell:/Users/dschlitt/github/aoc2023/aoc2023/12/12b.ipynb#X12sZmlsZQ%3D%3D?line=12'>13</a>\u001b[0m \u001b[39m#print(f\"{len(permutations)} reduced\")\u001b[39;00m\n\u001b[1;32m     <a href='vscode-notebook-cell:/Users/dschlitt/github/aoc2023/aoc2023/12/12b.ipynb#X12sZmlsZQ%3D%3D?line=13'>14</a>\u001b[0m \u001b[39m#print(permutations)\u001b[39;00m\n\u001b[1;32m     <a href='vscode-notebook-cell:/Users/dschlitt/github/aoc2023/aoc2023/12/12b.ipynb#X12sZmlsZQ%3D%3D?line=14'>15</a>\u001b[0m sum_arrangements \u001b[39m=\u001b[39m \u001b[39m0\u001b[39m\n",
      "\u001b[1;32m/Users/dschlitt/github/aoc2023/aoc2023/12/12b.ipynb Cell 10\u001b[0m line \u001b[0;36m3\n\u001b[1;32m      <a href='vscode-notebook-cell:/Users/dschlitt/github/aoc2023/aoc2023/12/12b.ipynb#X12sZmlsZQ%3D%3D?line=0'>1</a>\u001b[0m \u001b[39mdef\u001b[39;00m \u001b[39mget_permutations_2\u001b[39m(damaged, free_spaces):\n\u001b[1;32m      <a href='vscode-notebook-cell:/Users/dschlitt/github/aoc2023/aoc2023/12/12b.ipynb#X12sZmlsZQ%3D%3D?line=1'>2</a>\u001b[0m     permutations \u001b[39m=\u001b[39m []\n\u001b[0;32m----> <a href='vscode-notebook-cell:/Users/dschlitt/github/aoc2023/aoc2023/12/12b.ipynb#X12sZmlsZQ%3D%3D?line=2'>3</a>\u001b[0m     check_positions(damaged, free_spaces)\n\u001b[1;32m      <a href='vscode-notebook-cell:/Users/dschlitt/github/aoc2023/aoc2023/12/12b.ipynb#X12sZmlsZQ%3D%3D?line=3'>4</a>\u001b[0m     \u001b[39mreturn\u001b[39;00m\n",
      "\u001b[1;32m/Users/dschlitt/github/aoc2023/aoc2023/12/12b.ipynb Cell 10\u001b[0m line \u001b[0;36m1\n\u001b[1;32m     <a href='vscode-notebook-cell:/Users/dschlitt/github/aoc2023/aoc2023/12/12b.ipynb#X12sZmlsZQ%3D%3D?line=15'>16</a>\u001b[0m     char_places_branch \u001b[39m=\u001b[39m \u001b[39mlist\u001b[39m(char_places)\n\u001b[1;32m     <a href='vscode-notebook-cell:/Users/dschlitt/github/aoc2023/aoc2023/12/12b.ipynb#X12sZmlsZQ%3D%3D?line=16'>17</a>\u001b[0m     char_places_branch\u001b[39m.\u001b[39mappend(i)\n\u001b[0;32m---> <a href='vscode-notebook-cell:/Users/dschlitt/github/aoc2023/aoc2023/12/12b.ipynb#X12sZmlsZQ%3D%3D?line=17'>18</a>\u001b[0m     check_positions(number_chars\u001b[39m-\u001b[39;49m\u001b[39m1\u001b[39;49m, spots, \u001b[39mtuple\u001b[39;49m(char_places_branch), i\u001b[39m+\u001b[39;49m\u001b[39m1\u001b[39;49m)\n\u001b[1;32m     <a href='vscode-notebook-cell:/Users/dschlitt/github/aoc2023/aoc2023/12/12b.ipynb#X12sZmlsZQ%3D%3D?line=18'>19</a>\u001b[0m \u001b[39mreturn\u001b[39;00m\n",
      "\u001b[1;32m/Users/dschlitt/github/aoc2023/aoc2023/12/12b.ipynb Cell 10\u001b[0m line \u001b[0;36m1\n\u001b[1;32m     <a href='vscode-notebook-cell:/Users/dschlitt/github/aoc2023/aoc2023/12/12b.ipynb#X12sZmlsZQ%3D%3D?line=15'>16</a>\u001b[0m     char_places_branch \u001b[39m=\u001b[39m \u001b[39mlist\u001b[39m(char_places)\n\u001b[1;32m     <a href='vscode-notebook-cell:/Users/dschlitt/github/aoc2023/aoc2023/12/12b.ipynb#X12sZmlsZQ%3D%3D?line=16'>17</a>\u001b[0m     char_places_branch\u001b[39m.\u001b[39mappend(i)\n\u001b[0;32m---> <a href='vscode-notebook-cell:/Users/dschlitt/github/aoc2023/aoc2023/12/12b.ipynb#X12sZmlsZQ%3D%3D?line=17'>18</a>\u001b[0m     check_positions(number_chars\u001b[39m-\u001b[39;49m\u001b[39m1\u001b[39;49m, spots, \u001b[39mtuple\u001b[39;49m(char_places_branch), i\u001b[39m+\u001b[39;49m\u001b[39m1\u001b[39;49m)\n\u001b[1;32m     <a href='vscode-notebook-cell:/Users/dschlitt/github/aoc2023/aoc2023/12/12b.ipynb#X12sZmlsZQ%3D%3D?line=18'>19</a>\u001b[0m \u001b[39mreturn\u001b[39;00m\n",
      "    \u001b[0;31m[... skipping similar frames: check_positions at line 18 (12 times)]\u001b[0m\n",
      "\u001b[1;32m/Users/dschlitt/github/aoc2023/aoc2023/12/12b.ipynb Cell 10\u001b[0m line \u001b[0;36m1\n\u001b[1;32m     <a href='vscode-notebook-cell:/Users/dschlitt/github/aoc2023/aoc2023/12/12b.ipynb#X12sZmlsZQ%3D%3D?line=15'>16</a>\u001b[0m     char_places_branch \u001b[39m=\u001b[39m \u001b[39mlist\u001b[39m(char_places)\n\u001b[1;32m     <a href='vscode-notebook-cell:/Users/dschlitt/github/aoc2023/aoc2023/12/12b.ipynb#X12sZmlsZQ%3D%3D?line=16'>17</a>\u001b[0m     char_places_branch\u001b[39m.\u001b[39mappend(i)\n\u001b[0;32m---> <a href='vscode-notebook-cell:/Users/dschlitt/github/aoc2023/aoc2023/12/12b.ipynb#X12sZmlsZQ%3D%3D?line=17'>18</a>\u001b[0m     check_positions(number_chars\u001b[39m-\u001b[39m\u001b[39m1\u001b[39m, spots, \u001b[39mtuple\u001b[39;49m(char_places_branch), i\u001b[39m+\u001b[39m\u001b[39m1\u001b[39m)\n\u001b[1;32m     <a href='vscode-notebook-cell:/Users/dschlitt/github/aoc2023/aoc2023/12/12b.ipynb#X12sZmlsZQ%3D%3D?line=18'>19</a>\u001b[0m \u001b[39mreturn\u001b[39;00m\n",
      "\u001b[0;31mKeyboardInterrupt\u001b[0m: "
     ]
    }
   ],
   "source": [
    "total_arrangements = 0\n",
    "for line in input[0:]:\n",
    "    linesplit = line.split()\n",
    "    old_condition_record = linesplit[0]\n",
    "    condition_record = old_condition_record\n",
    "    old_group_of_damaged_springs = list(map(int,linesplit[1].split(',')))\n",
    "    group_of_damaged_springs = old_group_of_damaged_springs.copy()\n",
    "    for i in range(4):\n",
    "        condition_record += '?' + old_condition_record\n",
    "        group_of_damaged_springs += old_group_of_damaged_springs\n",
    "    print(condition_record, group_of_damaged_springs)\n",
    "    arrangements = try_arrangements(condition_record,group_of_damaged_springs)\n",
    "    print(f\"{line.strip()} - {arrangements} arrangements\")\n",
    "    total_arrangements += arrangements\n",
    "print(total_arrangements)\n",
    "    "
   ]
  }
 ],
 "metadata": {
  "kernelspec": {
   "display_name": "Python 3",
   "language": "python",
   "name": "python3"
  },
  "language_info": {
   "codemirror_mode": {
    "name": "ipython",
    "version": 3
   },
   "file_extension": ".py",
   "mimetype": "text/x-python",
   "name": "python",
   "nbconvert_exporter": "python",
   "pygments_lexer": "ipython3",
   "version": "3.10.9"
  }
 },
 "nbformat": 4,
 "nbformat_minor": 2
}
