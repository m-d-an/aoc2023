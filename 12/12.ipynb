{
 "cells": [
  {
   "cell_type": "code",
   "execution_count": 275,
   "metadata": {},
   "outputs": [],
   "source": [
    "import itertools"
   ]
  },
  {
   "cell_type": "code",
   "execution_count": 276,
   "metadata": {},
   "outputs": [],
   "source": [
    "file = open('input.txt', 'r')\n",
    "input = file.readlines()\n",
    "file.close()"
   ]
  },
  {
   "cell_type": "markdown",
   "metadata": {},
   "source": [
    "For each row, count all of the different arrangements of operational and broken springs that meet the given criteria. What is the sum of those counts?"
   ]
  },
  {
   "cell_type": "markdown",
   "metadata": {},
   "source": [
    "```???.### 1,1,3 - 1 arrangement  \n",
    ".??..??...?##. 1,1,3 - 4 arrangements  \n",
    "?#?#?#?#?#?#?#? 1,3,1,6 - 1 arrangement  \n",
    "????.#...#... 4,1,1 - 1 arrangement  \n",
    "????.######..#####. 1,6,5 - 4 arrangements  \n",
    "?###???????? 3,2,1 - 10 arrangements"
   ]
  },
  {
   "cell_type": "code",
   "execution_count": 277,
   "metadata": {},
   "outputs": [],
   "source": [
    "def get_arrangement(line):\n",
    "    arrangements = [len(list(g)) for k, g in itertools.groupby(line) if k == '#']\n",
    "    return arrangements"
   ]
  },
  {
   "cell_type": "code",
   "execution_count": 278,
   "metadata": {},
   "outputs": [],
   "source": [
    "def get_permutations_1(chars):\n",
    "    permutations = [''.join(x) for x in list(itertools.permutations(chars))]\n",
    "    print(f\"{len(permutations)} permutations\")\n",
    "    return set(permutations)"
   ]
  },
  {
   "cell_type": "code",
   "execution_count": 279,
   "metadata": {},
   "outputs": [],
   "source": [
    "def get_permutations_2(damaged, free_spaces):\n",
    "    permutations = []\n",
    "    check_positions(permutations, damaged, free_spaces)\n",
    "    return permutations"
   ]
  },
  {
   "cell_type": "code",
   "execution_count": 280,
   "metadata": {},
   "outputs": [],
   "source": [
    "def try_arrangements(condition_record,group_of_damaged_springs):\n",
    "    damaged_springs_to_place = sum(group_of_damaged_springs) - sum(get_arrangement(condition_record))\n",
    "    free_spaces = condition_record.count('?')\n",
    "    #print(f\"{damaged_springs_to_place}# in {free_spaces}? to place\")\n",
    "    to_place = \"\"\n",
    "    for i in range(damaged_springs_to_place):\n",
    "        to_place += '#'\n",
    "    for i in range(free_spaces-damaged_springs_to_place):\n",
    "        to_place += '.'\n",
    "    #print(to_place)\n",
    "    #permutations = get_permutations_1(to_place)\n",
    "    permutations = get_permutations_2(damaged_springs_to_place, free_spaces)\n",
    "    #print(f\"{len(permutations)} reduced\")\n",
    "    #print(permutations)\n",
    "    sum_arrangements = 0\n",
    "    for p in permutations:\n",
    "        i = 0\n",
    "        record = condition_record\n",
    "        for j,c in enumerate(condition_record):\n",
    "            if c == '?':\n",
    "                record = record[:j] + p[i] + record[j+1:]\n",
    "                i += 1\n",
    "        if get_arrangement(record) == group_of_damaged_springs:\n",
    "            sum_arrangements += 1\n",
    "            #print(record)\n",
    "    return sum_arrangements"
   ]
  },
  {
   "cell_type": "code",
   "execution_count": 281,
   "metadata": {},
   "outputs": [],
   "source": [
    "def check_positions(permutations, number_chars, spots, char_places = [], start_index = 0):\n",
    "    #print(number_chars, spots, char_places, start_index)\n",
    "    if number_chars == 0:\n",
    "        #print(char_places)\n",
    "        permutation = \"\"\n",
    "        for i in range(spots):\n",
    "            if i in char_places:\n",
    "                permutation += \"#\"\n",
    "            else:\n",
    "                permutation += \".\"\n",
    "        permutations.append(permutation)\n",
    "        return\n",
    "    end_index = spots - number_chars + 1\n",
    "    for i in range(start_index, end_index, 1):\n",
    "        char_places_branch = char_places.copy()\n",
    "        char_places_branch.append(i)\n",
    "        check_positions(permutations, number_chars-1, spots, char_places_branch, i+1)\n",
    "    return\n"
   ]
  },
  {
   "cell_type": "code",
   "execution_count": 282,
   "metadata": {},
   "outputs": [
    {
     "name": "stdout",
     "output_type": "stream",
     "text": [
      "7705\n"
     ]
    }
   ],
   "source": [
    "total_arrangements = 0\n",
    "for line in input[0:]:\n",
    "    linesplit = line.split()\n",
    "    condition_record = linesplit[0]\n",
    "    group_of_damaged_springs = list(map(int,linesplit[1].split(',')))\n",
    "    arrangements = try_arrangements(condition_record,group_of_damaged_springs)\n",
    "    #print(f\"{line.strip()} - {arrangements} arrangements\")\n",
    "    total_arrangements += arrangements\n",
    "print(total_arrangements)\n",
    "    "
   ]
  }
 ],
 "metadata": {
  "kernelspec": {
   "display_name": "Python 3",
   "language": "python",
   "name": "python3"
  },
  "language_info": {
   "codemirror_mode": {
    "name": "ipython",
    "version": 3
   },
   "file_extension": ".py",
   "mimetype": "text/x-python",
   "name": "python",
   "nbconvert_exporter": "python",
   "pygments_lexer": "ipython3",
   "version": "3.10.9"
  }
 },
 "nbformat": 4,
 "nbformat_minor": 2
}
