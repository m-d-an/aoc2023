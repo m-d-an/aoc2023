{
 "cells": [
  {
   "cell_type": "code",
   "execution_count": 1,
   "metadata": {},
   "outputs": [],
   "source": [
    "file = open('input.txt', 'r')\n",
    "input = file.readlines()\n",
    "file.close()"
   ]
  },
  {
   "cell_type": "code",
   "execution_count": 2,
   "metadata": {},
   "outputs": [],
   "source": [
    "#dict with name as key\n",
    "modules = {}\n",
    "#queue with tuples (source_module_name, dest_module_name, pulse (True/False))\n",
    "pulse_queue = []"
   ]
  },
  {
   "cell_type": "code",
   "execution_count": 3,
   "metadata": {},
   "outputs": [],
   "source": [
    "class FlipFlop:\n",
    "    def __init__(self, name, outputs) -> None:\n",
    "        self.name = name\n",
    "        self.state_on = False\n",
    "        self.output_modules = outputs\n",
    "        pass\n",
    "    \n",
    "    def set_pulse(self, pulse, input_module = None):\n",
    "        if pulse:\n",
    "            return\n",
    "        else:\n",
    "            self.state_on = not self.state_on\n",
    "            #send pulse according to state\n",
    "            for module in self.output_modules:\n",
    "                pulse_queue.append((self.name, module, self.state_on))\n",
    "            return\n",
    "    \n",
    "    def to_string(self):\n",
    "        return f\"FlipFlop: {self.name}, output modules: {self.output_modules}, state \"+(\"on\" if self.state_on else \"off\")"
   ]
  },
  {
   "cell_type": "code",
   "execution_count": 4,
   "metadata": {},
   "outputs": [],
   "source": [
    "class Conjunction:\n",
    "    def __init__(self, name, outputs) -> None:\n",
    "        self.name = name\n",
    "        self.connected_inputs = {}\n",
    "        self.output_modules = outputs\n",
    "        pass\n",
    "\n",
    "    def set_input_module(self, input_module):\n",
    "        # False -> low, True -> high\n",
    "        self.connected_inputs[input_module] = False\n",
    "\n",
    "    def set_pulse(self, pulse, input_module):\n",
    "        self.connected_inputs[input_module] = pulse\n",
    "        send = True\n",
    "        if all(value == True for value in self.connected_inputs.values()):\n",
    "            send = False\n",
    "        for module in self.output_modules:\n",
    "            pulse_queue.append((self.name, module, send))\n",
    "        return\n",
    "    \n",
    "    def to_string(self):\n",
    "        return f\"Conjunction: {self.name}, input modules: {self.connected_inputs}, output modules: {self.output_modules}\""
   ]
  },
  {
   "cell_type": "code",
   "execution_count": 5,
   "metadata": {},
   "outputs": [],
   "source": [
    "class Broadcast:\n",
    "    def __init__(self, name, outputs) -> None:\n",
    "        self.name = name\n",
    "        self.output_modules = outputs\n",
    "        pass\n",
    "\n",
    "    def set_pulse(self, pulse, input_module = None):\n",
    "        for module in self.output_modules:\n",
    "            pulse_queue.append((self.name, module, pulse))\n",
    "        return\n",
    "    \n",
    "    def to_string(self):\n",
    "        return f\"Broadcast: {self.name}, output modules: {self.output_modules}\""
   ]
  },
  {
   "cell_type": "code",
   "execution_count": 6,
   "metadata": {},
   "outputs": [],
   "source": [
    "for line in input:\n",
    "    #print(line.strip())\n",
    "    linesplit = line.split()\n",
    "    outputs = line.strip().split('->')[1].split(',')\n",
    "    outputs = [s.strip() for s in outputs]\n",
    "    if linesplit[0] == 'broadcaster':\n",
    "        modules[linesplit[0]] = Broadcast(linesplit[0], outputs)\n",
    "    elif linesplit[0][0] == '%':\n",
    "        modules[linesplit[0][1:]] = FlipFlop(linesplit[0][1:],outputs)\n",
    "    elif linesplit[0][0] == '&':\n",
    "        modules[linesplit[0][1:]] = Conjunction(linesplit[0][1:],outputs)\n",
    "\n",
    "#find input modules for Conjunctions\n",
    "for module in modules.values():\n",
    "    if isinstance(module, Conjunction):\n",
    "        for input in modules.values():\n",
    "            if module.name in input.output_modules:\n",
    "                module.set_input_module(input.name)"
   ]
  },
  {
   "cell_type": "markdown",
   "metadata": {},
   "source": [
    "# Idea\n",
    "* rx needs to get low pulse from &cs\n",
    "* &cs sends low pulse, if all inputs send high pulse to rx\n",
    "    * &kh\n",
    "    * &lz\n",
    "    * &tg\n",
    "    * &hn\n",
    "* compute lcm of button presses needed for each input"
   ]
  },
  {
   "cell_type": "code",
   "execution_count": 7,
   "metadata": {},
   "outputs": [],
   "source": [
    "inputs_to_cs = modules['cs'].connected_inputs\n",
    "first_time_true = {}"
   ]
  },
  {
   "cell_type": "code",
   "execution_count": 8,
   "metadata": {},
   "outputs": [],
   "source": [
    "#press button i times and work queue\n",
    "button_presses = 0\n",
    "for i in range(10000):\n",
    "    button_presses += 1\n",
    "    pulse_queue.append(('start','broadcaster',False))\n",
    "    while (len(pulse_queue) > 0):\n",
    "        next_pulse = pulse_queue.pop(0)\n",
    "\n",
    "        #check for input modules of cs:\n",
    "        if (next_pulse[0] in inputs_to_cs and next_pulse[2]):\n",
    "            if next_pulse[0] not in first_time_true.keys():\n",
    "                first_time_true[next_pulse[0]] = button_presses\n",
    "\n",
    "        if (next_pulse[1] not in modules):\n",
    "            continue\n",
    "        else:\n",
    "            modules[next_pulse[1]].set_pulse(next_pulse[2], next_pulse[0])\n",
    "        #print(pulse_queue)\n",
    "    "
   ]
  },
  {
   "cell_type": "code",
   "execution_count": 9,
   "metadata": {},
   "outputs": [
    {
     "data": {
      "text/plain": [
       "{'tg': 3769, 'kh': 3889, 'lz': 3917, 'hn': 4013}"
      ]
     },
     "execution_count": 9,
     "metadata": {},
     "output_type": "execute_result"
    }
   ],
   "source": [
    "first_time_true"
   ]
  },
  {
   "cell_type": "code",
   "execution_count": 10,
   "metadata": {},
   "outputs": [
    {
     "name": "stdout",
     "output_type": "stream",
     "text": [
      "lcm: 230402300925361\n"
     ]
    }
   ],
   "source": [
    "from math import lcm\n",
    "\n",
    "least_common_multiple = 1\n",
    "for v in first_time_true.values():\n",
    "    least_common_multiple = lcm(least_common_multiple, v)\n",
    "print(f\"lcm: {least_common_multiple}\")"
   ]
  }
 ],
 "metadata": {
  "kernelspec": {
   "display_name": "Python 3",
   "language": "python",
   "name": "python3"
  },
  "language_info": {
   "codemirror_mode": {
    "name": "ipython",
    "version": 3
   },
   "file_extension": ".py",
   "mimetype": "text/x-python",
   "name": "python",
   "nbconvert_exporter": "python",
   "pygments_lexer": "ipython3",
   "version": "3.10.9"
  }
 },
 "nbformat": 4,
 "nbformat_minor": 2
}
