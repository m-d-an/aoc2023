{
 "cells": [
  {
   "cell_type": "code",
   "execution_count": 111,
   "metadata": {},
   "outputs": [],
   "source": [
    "file = open('input.txt', 'r')\n",
    "input = file.readlines()\n",
    "file.close()"
   ]
  },
  {
   "cell_type": "code",
   "execution_count": 112,
   "metadata": {},
   "outputs": [],
   "source": [
    "workflows = {}\n",
    "breakline = 0\n",
    "for i,line in enumerate(input):\n",
    "    if line.strip() == '':\n",
    "        breakline = i\n",
    "        break\n",
    "    else:\n",
    "        linesplit = line.strip().split('{')\n",
    "        name = linesplit[0]\n",
    "        workflows[name] = []\n",
    "        steps = linesplit[1][:-1].split(',')\n",
    "        for step in steps:\n",
    "            if ':' in step:\n",
    "                stepsplit = step.split(':')\n",
    "                workflows[name].append((stepsplit[0][0],stepsplit[0][1],int(stepsplit[0][2:]),stepsplit[1]))\n",
    "            else:\n",
    "                workflows[name].append(step)\n",
    "#print(workflows)"
   ]
  },
  {
   "cell_type": "code",
   "execution_count": 113,
   "metadata": {},
   "outputs": [],
   "source": [
    "ranges = []"
   ]
  },
  {
   "cell_type": "code",
   "execution_count": 114,
   "metadata": {},
   "outputs": [],
   "source": [
    "def use_workflow(flow, x_range, m_range, a_range, s_range):\n",
    "    #print(f\"use_workflow({flow,x_range,m_range,a_range,s_range})\")\n",
    "    if x_range[0] > x_range[1] or m_range[0] > m_range[1] or a_range[0] > a_range[1] or s_range[0] > s_range[1]:\n",
    "        return 0\n",
    "    elif flow == 'A':\n",
    "        #print(f\"return {(x_range[1]-x_range[0]+1) * (m_range[1]-m_range[0]+1) * (a_range[1]-a_range[0]+1) * (s_range[1]-s_range[0]+1)}\")\n",
    "        return (x_range[1]-x_range[0]+1) * (m_range[1]-m_range[0]+1) * (a_range[1]-a_range[0]+1) * (s_range[1]-s_range[0]+1)\n",
    "    elif flow == 'R':\n",
    "        return 0\n",
    "    else:\n",
    "        wf = workflows[flow]\n",
    "        #print(wf)\n",
    "        sum_combinations = 0\n",
    "        for w in wf:     \n",
    "            if type(w) == str:\n",
    "                sum_combinations += use_workflow(w, x_range, m_range, a_range, s_range)\n",
    "            else:\n",
    "                range = None\n",
    "                if w[0] == 'x':\n",
    "                    if w[1] == '>':\n",
    "                        sum_combinations += use_workflow(w[3], (w[2]+1, x_range[1]), m_range, a_range, s_range)\n",
    "                        x_range = (x_range[0],w[2])\n",
    "                    else:\n",
    "                        sum_combinations += use_workflow(w[3], (x_range[0],w[2]-1), m_range, a_range, s_range)\n",
    "                        x_range = (w[2], x_range[1])\n",
    "                elif w[0] == 'm':\n",
    "                    if w[1] == '>':\n",
    "                        sum_combinations += use_workflow(w[3], x_range, (w[2]+1, m_range[1]), a_range, s_range)\n",
    "                        m_range = (m_range[0],w[2])\n",
    "                    else:\n",
    "                        sum_combinations += use_workflow(w[3], x_range, (m_range[0],w[2]-1), a_range, s_range)\n",
    "                        m_range = (w[2], m_range[1])\n",
    "                elif w[0] == 'a':\n",
    "                    if w[1] == '>':\n",
    "                        sum_combinations += use_workflow(w[3], x_range, m_range, (w[2]+1, a_range[1]), s_range)\n",
    "                        a_range = (a_range[0],w[2])\n",
    "                    else:\n",
    "                        sum_combinations += use_workflow(w[3], x_range, m_range, (a_range[0],w[2]-1), s_range)\n",
    "                        a_range = (w[2], a_range[1])\n",
    "                elif w[0] == 's':\n",
    "                    if w[1] == '>':\n",
    "                        sum_combinations += use_workflow(w[3], x_range, m_range, a_range, (w[2]+1, s_range[1]))\n",
    "                        s_range = (s_range[0],w[2])\n",
    "                    else:\n",
    "                        sum_combinations += use_workflow(w[3], x_range, m_range, a_range, (s_range[0],w[2]-1))\n",
    "                        s_range = (w[2], s_range[1])\n",
    "        return sum_combinations"
   ]
  },
  {
   "cell_type": "code",
   "execution_count": 115,
   "metadata": {},
   "outputs": [
    {
     "data": {
      "text/plain": [
       "116606738659695"
      ]
     },
     "execution_count": 115,
     "metadata": {},
     "output_type": "execute_result"
    }
   ],
   "source": [
    "use_workflow('in', (1,4000), (1,4000), (1,4000), (1,4000))"
   ]
  }
 ],
 "metadata": {
  "kernelspec": {
   "display_name": "Python 3",
   "language": "python",
   "name": "python3"
  },
  "language_info": {
   "codemirror_mode": {
    "name": "ipython",
    "version": 3
   },
   "file_extension": ".py",
   "mimetype": "text/x-python",
   "name": "python",
   "nbconvert_exporter": "python",
   "pygments_lexer": "ipython3",
   "version": "3.10.9"
  }
 },
 "nbformat": 4,
 "nbformat_minor": 2
}
