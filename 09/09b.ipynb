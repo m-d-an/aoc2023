{
 "cells": [
  {
   "cell_type": "code",
   "execution_count": 11,
   "metadata": {},
   "outputs": [],
   "source": [
    "file = open('input.txt', 'r')\n",
    "input = file.readlines()\n",
    "file.close()"
   ]
  },
  {
   "cell_type": "code",
   "execution_count": 12,
   "metadata": {},
   "outputs": [
    {
     "name": "stdout",
     "output_type": "stream",
     "text": [
      "1089\n"
     ]
    }
   ],
   "source": [
    "sum_predictions = 0\n",
    "for line in input:\n",
    "    history_and_diffs = []\n",
    "    history_and_diffs.append(list(map(int,line.split())))\n",
    "    #print(history_and_diffs[0])\n",
    "    #compute differences\n",
    "    while(not all([ v == 0 for v in history_and_diffs[-1]])):\n",
    "        history_and_diffs.append([j-i for i, j in zip(history_and_diffs[-1][:-1], history_and_diffs[-1][1:])])\n",
    "        #print(history_and_diffs[-1])\n",
    "    for i, ls in reversed(list(enumerate(history_and_diffs[:-1]))):\n",
    "        ls.insert(0,ls[0] - history_and_diffs[i+1][0])\n",
    "        #print(i, ls)\n",
    "    sum_predictions += history_and_diffs[0][0]\n",
    "print(sum_predictions)"
   ]
  }
 ],
 "metadata": {
  "kernelspec": {
   "display_name": "Python 3",
   "language": "python",
   "name": "python3"
  },
  "language_info": {
   "codemirror_mode": {
    "name": "ipython",
    "version": 3
   },
   "file_extension": ".py",
   "mimetype": "text/x-python",
   "name": "python",
   "nbconvert_exporter": "python",
   "pygments_lexer": "ipython3",
   "version": "3.10.9"
  }
 },
 "nbformat": 4,
 "nbformat_minor": 2
}
