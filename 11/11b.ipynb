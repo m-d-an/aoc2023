{
 "cells": [
  {
   "cell_type": "code",
   "execution_count": 85,
   "metadata": {},
   "outputs": [],
   "source": [
    "file = open('input.txt', 'r')\n",
    "input = file.readlines()\n",
    "file.close()"
   ]
  },
  {
   "cell_type": "code",
   "execution_count": 86,
   "metadata": {},
   "outputs": [],
   "source": [
    "def print_map(galaxy_map):\n",
    "    #ranges\n",
    "    max_i = 0\n",
    "    max_j = 0\n",
    "    for i,j in galaxy_map:\n",
    "        if i>max_i:\n",
    "            max_i = i\n",
    "        if j>max_j:\n",
    "            max_j = j\n",
    "\n",
    "    for i in range(max_i+1):\n",
    "        line = \"\"\n",
    "        for j in range(max_j+1):\n",
    "            if (i,j) in galaxy_map.keys():\n",
    "                line += '#'\n",
    "            else:\n",
    "                line += '.'\n",
    "        print(line)"
   ]
  },
  {
   "cell_type": "code",
   "execution_count": 87,
   "metadata": {},
   "outputs": [],
   "source": [
    "galaxy_map = {}\n",
    "for i, line in enumerate(input):\n",
    "    for j, c in enumerate(line.strip()):\n",
    "        if c != '.':\n",
    "            galaxy_map[(i,j)] = len(galaxy_map)+1\n",
    "#print(galaxy_map)"
   ]
  },
  {
   "cell_type": "code",
   "execution_count": 88,
   "metadata": {},
   "outputs": [
    {
     "name": "stdout",
     "output_type": "stream",
     "text": [
      "[3, 70, 71, 104, 49, 27]\n",
      "[40, 58, 52]\n"
     ]
    }
   ],
   "source": [
    "#expand free space\n",
    "y_coords = [item[0] for item in galaxy_map.keys()]\n",
    "x_coords = [item[1] for item in galaxy_map.keys()]\n",
    "#print(y_coords)\n",
    "#print(x_coords)\n",
    "empty_lines = list(set(list(range(len(input)))) - set(y_coords))\n",
    "print(empty_lines)\n",
    "empty_cols = list(set(list(range(len(input[0].strip())))) - set(x_coords))\n",
    "print(empty_cols)"
   ]
  },
  {
   "cell_type": "code",
   "execution_count": 89,
   "metadata": {},
   "outputs": [],
   "source": [
    "expand_factor = 999999"
   ]
  },
  {
   "cell_type": "code",
   "execution_count": 90,
   "metadata": {},
   "outputs": [],
   "source": [
    "map_copy = galaxy_map.copy()\n",
    "galaxy_map = {}\n",
    "for x,y in map_copy.keys():\n",
    "    new_x = x + (len([i for i in empty_lines if i < x]) * expand_factor)\n",
    "    new_y = y + (len([i for i in empty_cols if i < y]) * expand_factor)\n",
    "    #print((x,y),(new_x,new_y))\n",
    "    galaxy_map[(new_x,new_y)] = map_copy[(x,y)]"
   ]
  },
  {
   "cell_type": "code",
   "execution_count": 91,
   "metadata": {},
   "outputs": [],
   "source": [
    "#compute shortest paths between galaxies\n",
    "def compute_path(coords1, coords2):\n",
    "    return abs(coords1[0]-coords2[0]) + abs(coords1[1]-coords2[1])"
   ]
  },
  {
   "cell_type": "code",
   "execution_count": 92,
   "metadata": {},
   "outputs": [],
   "source": [
    "shortest_paths = {}\n",
    "for coords1 in galaxy_map:\n",
    "    for coords2 in galaxy_map:\n",
    "        id1 = galaxy_map[coords1]\n",
    "        id2 = galaxy_map[coords2]\n",
    "        if id1 == id2:\n",
    "            continue\n",
    "        elif (id1,id2) in shortest_paths.keys() or (id2,id1) in shortest_paths.keys():\n",
    "            continue\n",
    "        else:\n",
    "            shortest_paths[(id1,id2)] = compute_path(coords1, coords2)"
   ]
  },
  {
   "cell_type": "code",
   "execution_count": 93,
   "metadata": {},
   "outputs": [
    {
     "data": {
      "text/plain": [
       "382979724122"
      ]
     },
     "execution_count": 93,
     "metadata": {},
     "output_type": "execute_result"
    }
   ],
   "source": [
    "sum(shortest_paths.values())"
   ]
  }
 ],
 "metadata": {
  "kernelspec": {
   "display_name": "Python 3",
   "language": "python",
   "name": "python3"
  },
  "language_info": {
   "codemirror_mode": {
    "name": "ipython",
    "version": 3
   },
   "file_extension": ".py",
   "mimetype": "text/x-python",
   "name": "python",
   "nbconvert_exporter": "python",
   "pygments_lexer": "ipython3",
   "version": "3.10.9"
  }
 },
 "nbformat": 4,
 "nbformat_minor": 2
}
