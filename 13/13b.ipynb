{
 "cells": [
  {
   "cell_type": "code",
   "execution_count": 23,
   "metadata": {},
   "outputs": [],
   "source": [
    "import numpy as np"
   ]
  },
  {
   "cell_type": "code",
   "execution_count": 24,
   "metadata": {},
   "outputs": [],
   "source": [
    "file = open('input.txt', 'r')\n",
    "input = file.readlines()\n",
    "file.close()"
   ]
  },
  {
   "cell_type": "code",
   "execution_count": 25,
   "metadata": {},
   "outputs": [],
   "source": [
    "def find_reflection_in_columns(pattern):\n",
    "    #check columns\n",
    "    for i in range(len(pattern[0])-1):\n",
    "        number_diffs = (pattern[:,i] != pattern[:,i+1]).sum()\n",
    "        shift = 0\n",
    "        while(number_diffs<=1):\n",
    "            shift += 1\n",
    "            if(i-shift < 0 or i+shift+1>=len(pattern[0])):\n",
    "                break\n",
    "            else:\n",
    "                number_diffs += (pattern[:,i-shift] != pattern[:,i+1+shift]).sum()\n",
    "        if number_diffs == 1:\n",
    "            return i+1\n",
    "    return -1"
   ]
  },
  {
   "cell_type": "code",
   "execution_count": 26,
   "metadata": {},
   "outputs": [],
   "source": [
    "def find_reflection_in_rows(pattern):\n",
    "    #check rows\n",
    "    for i in range(len(pattern)-1):\n",
    "        number_diffs = (pattern[i] != pattern[i+1]).sum()\n",
    "        shift = 0\n",
    "        while(number_diffs<=1):\n",
    "            shift += 1\n",
    "            if(i-shift < 0 or i+shift+1>=len(pattern)):\n",
    "                break\n",
    "            else:\n",
    "                number_diffs += (pattern[i-shift] != pattern[i+1+shift]).sum()\n",
    "        if number_diffs == 1:\n",
    "            return i+1\n",
    "    return -1"
   ]
  },
  {
   "cell_type": "code",
   "execution_count": 27,
   "metadata": {},
   "outputs": [
    {
     "name": "stdout",
     "output_type": "stream",
     "text": [
      "33183\n"
     ]
    }
   ],
   "source": [
    "lines = []\n",
    "sum = 0\n",
    "for i, line in enumerate(input):\n",
    "    if line.strip() == \"\":\n",
    "        # field complete, create np array\n",
    "        pattern = np.array(lines)\n",
    "        #print(pattern)\n",
    "        reflection_column = find_reflection_in_columns(pattern)\n",
    "        if (reflection_column>0):\n",
    "            sum += reflection_column\n",
    "        reflection_row = find_reflection_in_rows(pattern)\n",
    "        if (reflection_row>0):\n",
    "            sum += 100* reflection_row\n",
    "        lines = []\n",
    "        continue\n",
    "    chars = []\n",
    "    for j, char in enumerate(line.strip()):\n",
    "        chars.append(char)\n",
    "    lines.append(chars)\n",
    "print(sum)"
   ]
  }
 ],
 "metadata": {
  "kernelspec": {
   "display_name": "Python 3",
   "language": "python",
   "name": "python3"
  },
  "language_info": {
   "codemirror_mode": {
    "name": "ipython",
    "version": 3
   },
   "file_extension": ".py",
   "mimetype": "text/x-python",
   "name": "python",
   "nbconvert_exporter": "python",
   "pygments_lexer": "ipython3",
   "version": "3.10.9"
  }
 },
 "nbformat": 4,
 "nbformat_minor": 2
}
