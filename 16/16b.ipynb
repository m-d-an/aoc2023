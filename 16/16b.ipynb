{
 "cells": [
  {
   "cell_type": "code",
   "execution_count": 52,
   "metadata": {},
   "outputs": [],
   "source": [
    "file = open('input.txt', 'r')\n",
    "input = file.readlines()\n",
    "file.close()"
   ]
  },
  {
   "cell_type": "code",
   "execution_count": 53,
   "metadata": {},
   "outputs": [],
   "source": [
    "def print_grid(grid, energized = False):\n",
    "    for i in range(len(input)):\n",
    "        line = \"\"\n",
    "        for j in range(len(input[0].strip())):\n",
    "            if (i,j) in grid.keys():\n",
    "                if energized:\n",
    "                    line += '#'\n",
    "                else:\n",
    "                    line += grid[(i,j)]\n",
    "            else:\n",
    "                line += '.'\n",
    "        print(line)\n",
    "    print()\n"
   ]
  },
  {
   "cell_type": "code",
   "execution_count": 54,
   "metadata": {},
   "outputs": [],
   "source": [
    "contraption = {}\n",
    "energized = {}\n",
    "\n",
    "for i,line in enumerate(input):\n",
    "    for j, c in enumerate(line.strip()):\n",
    "        if c != '.':\n",
    "            contraption[(i,j)] = c\n",
    "            \n",
    "#print_grid(contraption)\n"
   ]
  },
  {
   "cell_type": "code",
   "execution_count": 55,
   "metadata": {},
   "outputs": [],
   "source": [
    "def follow_beam(coord, direction):\n",
    "    #print(f\"follow_beam({coord},{direction})\")\n",
    "    if coord[0] < 0 or coord[0] >= len(input) or coord[1] < 0 or coord[1] >= len(input[0].strip()):\n",
    "        return\n",
    "    else:\n",
    "        if coord not in energized:\n",
    "            energized[coord] = [direction]\n",
    "        elif direction in energized[coord]:\n",
    "            return\n",
    "        else:\n",
    "            energized[coord].append(direction)\n",
    "            \n",
    "        if coord in contraption.keys():\n",
    "            if contraption[coord] == '|' and (direction == 'R' or direction == 'L'):\n",
    "                follow_beam((coord[0]+1, coord[1]), 'D')\n",
    "                follow_beam((coord[0]-1, coord[1]), 'U')\n",
    "            elif contraption[coord] == '-' and (direction == 'U' or direction == 'D'):\n",
    "                follow_beam((coord[0], coord[1]+1), 'R')\n",
    "                follow_beam((coord[0], coord[1]-1), 'L')\n",
    "            elif contraption[coord] == '/':\n",
    "                if (direction == 'U'):\n",
    "                    follow_beam((coord[0], coord[1]+1), 'R')\n",
    "                elif (direction == 'D'):\n",
    "                    follow_beam((coord[0], coord[1]-1), 'L')\n",
    "                elif (direction == 'R'):\n",
    "                    follow_beam((coord[0]-1, coord[1]), 'U')\n",
    "                else:\n",
    "                    follow_beam((coord[0]+1, coord[1]), 'D')\n",
    "            elif contraption[coord] == '\\\\':\n",
    "                if (direction == 'U'):\n",
    "                    follow_beam((coord[0], coord[1]-1), 'L')\n",
    "                elif (direction == 'D'):\n",
    "                    follow_beam((coord[0], coord[1]+1), 'R')\n",
    "                elif (direction == 'R'):\n",
    "                    follow_beam((coord[0]+1, coord[1]), 'D')\n",
    "                else:\n",
    "                    follow_beam((coord[0]-1, coord[1]), 'U')\n",
    "            else:\n",
    "                if (direction == 'U'):\n",
    "                    follow_beam((coord[0]-1, coord[1]), 'U')\n",
    "                elif (direction == 'D'):\n",
    "                    follow_beam((coord[0]+1, coord[1]), 'D')\n",
    "                elif (direction == 'R'):\n",
    "                    follow_beam((coord[0], coord[1]+1), 'R')\n",
    "                else:\n",
    "                    follow_beam((coord[0], coord[1]-1), 'L')\n",
    "        else:\n",
    "            if (direction == 'U'):\n",
    "                follow_beam((coord[0]-1, coord[1]), 'U')\n",
    "            elif (direction == 'D'):\n",
    "                follow_beam((coord[0]+1, coord[1]), 'D')\n",
    "            elif (direction == 'R'):\n",
    "                follow_beam((coord[0], coord[1]+1), 'R')\n",
    "            else:\n",
    "                follow_beam((coord[0], coord[1]-1), 'L')\n",
    "                    "
   ]
  },
  {
   "cell_type": "code",
   "execution_count": 56,
   "metadata": {},
   "outputs": [
    {
     "name": "stdout",
     "output_type": "stream",
     "text": [
      "7488\n"
     ]
    }
   ],
   "source": [
    "energized_tiles = []\n",
    "for i in range(len(input)):\n",
    "    energized = {}\n",
    "    follow_beam((i,0),'R')\n",
    "    energized_tiles.append(len(energized))\n",
    "\n",
    "    energized = {}\n",
    "    follow_beam((i,len(input[0].strip())-1),'L')\n",
    "    energized_tiles.append(len(energized))\n",
    "\n",
    "for i in range(len(input[0].strip())):\n",
    "    energized = {}\n",
    "    follow_beam((0,i),'D')\n",
    "    energized_tiles.append(len(energized))\n",
    "    \n",
    "    energized = {}\n",
    "    follow_beam((0,len(input)-1),'U')\n",
    "    energized_tiles.append(len(energized))\n",
    "\n",
    "print(max(energized_tiles))\n"
   ]
  }
 ],
 "metadata": {
  "kernelspec": {
   "display_name": "Python 3",
   "language": "python",
   "name": "python3"
  },
  "language_info": {
   "codemirror_mode": {
    "name": "ipython",
    "version": 3
   },
   "file_extension": ".py",
   "mimetype": "text/x-python",
   "name": "python",
   "nbconvert_exporter": "python",
   "pygments_lexer": "ipython3",
   "version": "3.10.9"
  }
 },
 "nbformat": 4,
 "nbformat_minor": 2
}
