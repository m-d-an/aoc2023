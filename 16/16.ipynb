{
 "cells": [
  {
   "cell_type": "code",
   "execution_count": 96,
   "metadata": {},
   "outputs": [],
   "source": [
    "file = open('input.txt', 'r')\n",
    "input = file.readlines()\n",
    "file.close()"
   ]
  },
  {
   "cell_type": "code",
   "execution_count": 97,
   "metadata": {},
   "outputs": [],
   "source": [
    "def print_grid(grid, energized = False):\n",
    "    for i in range(len(input)):\n",
    "        line = \"\"\n",
    "        for j in range(len(input[0].strip())):\n",
    "            if (i,j) in grid.keys():\n",
    "                if energized:\n",
    "                    line += '#'\n",
    "                else:\n",
    "                    line += grid[(i,j)]\n",
    "            else:\n",
    "                line += '.'\n",
    "        print(line)\n",
    "    print()\n"
   ]
  },
  {
   "cell_type": "code",
   "execution_count": 98,
   "metadata": {},
   "outputs": [],
   "source": [
    "contraption = {}\n",
    "for i,line in enumerate(input):\n",
    "    for j, c in enumerate(line.strip()):\n",
    "        if c != '.':\n",
    "            contraption[(i,j)] = c\n",
    "#print_grid(contraption)\n"
   ]
  },
  {
   "cell_type": "code",
   "execution_count": 99,
   "metadata": {},
   "outputs": [],
   "source": [
    "energized = {}"
   ]
  },
  {
   "cell_type": "code",
   "execution_count": 100,
   "metadata": {},
   "outputs": [],
   "source": [
    "def follow_beam(coord, direction):\n",
    "    #print(f\"follow_beam({coord},{direction})\")\n",
    "    if coord[0] < 0 or coord[0] >= len(input) or coord[1] < 0 or coord[1] >= len(input[0].strip()):\n",
    "        return\n",
    "    else:\n",
    "        if coord not in energized:\n",
    "            energized[coord] = [direction]\n",
    "        elif direction in energized[coord]:\n",
    "            return\n",
    "        else:\n",
    "            energized[coord].append(direction)\n",
    "            \n",
    "        if coord in contraption.keys():\n",
    "            if contraption[coord] == '|' and (direction == 'R' or direction == 'L'):\n",
    "                follow_beam((coord[0]+1, coord[1]), 'D')\n",
    "                follow_beam((coord[0]-1, coord[1]), 'U')\n",
    "            elif contraption[coord] == '-' and (direction == 'U' or direction == 'D'):\n",
    "                follow_beam((coord[0], coord[1]+1), 'R')\n",
    "                follow_beam((coord[0], coord[1]-1), 'L')\n",
    "            elif contraption[coord] == '/':\n",
    "                if (direction == 'U'):\n",
    "                    follow_beam((coord[0], coord[1]+1), 'R')\n",
    "                elif (direction == 'D'):\n",
    "                    follow_beam((coord[0], coord[1]-1), 'L')\n",
    "                elif (direction == 'R'):\n",
    "                    follow_beam((coord[0]-1, coord[1]), 'U')\n",
    "                else:\n",
    "                    follow_beam((coord[0]+1, coord[1]), 'D')\n",
    "            elif contraption[coord] == '\\\\':\n",
    "                if (direction == 'U'):\n",
    "                    follow_beam((coord[0], coord[1]-1), 'L')\n",
    "                elif (direction == 'D'):\n",
    "                    follow_beam((coord[0], coord[1]+1), 'R')\n",
    "                elif (direction == 'R'):\n",
    "                    follow_beam((coord[0]+1, coord[1]), 'D')\n",
    "                else:\n",
    "                    follow_beam((coord[0]-1, coord[1]), 'U')\n",
    "            else:\n",
    "                if (direction == 'U'):\n",
    "                    follow_beam((coord[0]-1, coord[1]), 'U')\n",
    "                elif (direction == 'D'):\n",
    "                    follow_beam((coord[0]+1, coord[1]), 'D')\n",
    "                elif (direction == 'R'):\n",
    "                    follow_beam((coord[0], coord[1]+1), 'R')\n",
    "                else:\n",
    "                    follow_beam((coord[0], coord[1]-1), 'L')\n",
    "        else:\n",
    "            if (direction == 'U'):\n",
    "                follow_beam((coord[0]-1, coord[1]), 'U')\n",
    "            elif (direction == 'D'):\n",
    "                follow_beam((coord[0]+1, coord[1]), 'D')\n",
    "            elif (direction == 'R'):\n",
    "                follow_beam((coord[0], coord[1]+1), 'R')\n",
    "            else:\n",
    "                follow_beam((coord[0], coord[1]-1), 'L')\n",
    "                    "
   ]
  },
  {
   "cell_type": "code",
   "execution_count": 101,
   "metadata": {},
   "outputs": [
    {
     "name": "stdout",
     "output_type": "stream",
     "text": [
      "6994\n"
     ]
    }
   ],
   "source": [
    "follow_beam((0,0),'R')\n",
    "#print_grid(energized, True)\n",
    "print(len(energized))"
   ]
  }
 ],
 "metadata": {
  "kernelspec": {
   "display_name": "Python 3",
   "language": "python",
   "name": "python3"
  },
  "language_info": {
   "codemirror_mode": {
    "name": "ipython",
    "version": 3
   },
   "file_extension": ".py",
   "mimetype": "text/x-python",
   "name": "python",
   "nbconvert_exporter": "python",
   "pygments_lexer": "ipython3",
   "version": "3.10.9"
  }
 },
 "nbformat": 4,
 "nbformat_minor": 2
}
