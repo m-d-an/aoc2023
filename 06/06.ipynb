{
 "cells": [
  {
   "cell_type": "code",
   "execution_count": 42,
   "metadata": {},
   "outputs": [],
   "source": [
    "file = open('input.txt', 'r')\n",
    "input = file.readlines()\n",
    "file.close()"
   ]
  },
  {
   "cell_type": "code",
   "execution_count": 43,
   "metadata": {},
   "outputs": [],
   "source": [
    "times = list(map(int,input[0].split()[1:]))\n",
    "distances = list(map(int,input[1].split()[1:]))"
   ]
  },
  {
   "cell_type": "code",
   "execution_count": 44,
   "metadata": {},
   "outputs": [
    {
     "name": "stdout",
     "output_type": "stream",
     "text": [
      "6209190\n"
     ]
    }
   ],
   "source": [
    "product = 1\n",
    "for i, time in enumerate(times):\n",
    "    #print(\"race: \"+str(i))\n",
    "    further_distance = 0\n",
    "    for j in range(time):\n",
    "        distance = j * (time-j)\n",
    "        if(distance > distances[i]):\n",
    "            further_distance += 1\n",
    "    product *= further_distance\n",
    "print(product)"
   ]
  }
 ],
 "metadata": {
  "kernelspec": {
   "display_name": "Python 3",
   "language": "python",
   "name": "python3"
  },
  "language_info": {
   "codemirror_mode": {
    "name": "ipython",
    "version": 3
   },
   "file_extension": ".py",
   "mimetype": "text/x-python",
   "name": "python",
   "nbconvert_exporter": "python",
   "pygments_lexer": "ipython3",
   "version": "3.10.9"
  }
 },
 "nbformat": 4,
 "nbformat_minor": 2
}
