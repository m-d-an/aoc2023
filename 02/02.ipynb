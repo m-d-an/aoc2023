{
 "cells": [
  {
   "cell_type": "code",
   "execution_count": 1,
   "metadata": {},
   "outputs": [],
   "source": [
    "file = open('input.txt', 'r')\n",
    "lines = file.readlines()"
   ]
  },
  {
   "cell_type": "code",
   "execution_count": 2,
   "metadata": {},
   "outputs": [],
   "source": [
    "# max cubes\n",
    "max_cubes = { 'red':12, 'green':13, 'blue':14 }"
   ]
  },
  {
   "cell_type": "code",
   "execution_count": 3,
   "metadata": {},
   "outputs": [
    {
     "name": "stdout",
     "output_type": "stream",
     "text": [
      "2176\n"
     ]
    }
   ],
   "source": [
    "# solution a\n",
    "sum_ids = 0\n",
    "for line in lines:\n",
    "    linesplit = line[0:-1].split(':')\n",
    "\n",
    "    game_id = int(linesplit[0].split(' ')[1])\n",
    "    #print(game_id)\n",
    "\n",
    "    draws = linesplit[1].split(';')\n",
    "    #print(draws)\n",
    "\n",
    "    # test game of validity\n",
    "    game_valid = True\n",
    "    for draw in draws:\n",
    "        drawsplit = draw.split(',')\n",
    "        #print(draws)\n",
    "        for colors in drawsplit:\n",
    "            colorsplit = colors[1:].split(' ')\n",
    "            #print(colorsplit)\n",
    "            if(max_cubes[colorsplit[1]]<int(colorsplit[0])):\n",
    "                game_valid = False\n",
    "    if(game_valid):\n",
    "        sum_ids += game_id\n",
    "        \n",
    "print(sum_ids)"
   ]
  }
 ],
 "metadata": {
  "kernelspec": {
   "display_name": "Python 3",
   "language": "python",
   "name": "python3"
  },
  "language_info": {
   "codemirror_mode": {
    "name": "ipython",
    "version": 3
   },
   "file_extension": ".py",
   "mimetype": "text/x-python",
   "name": "python",
   "nbconvert_exporter": "python",
   "pygments_lexer": "ipython3",
   "version": "3.10.9"
  }
 },
 "nbformat": 4,
 "nbformat_minor": 2
}
