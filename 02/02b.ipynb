{
 "cells": [
  {
   "cell_type": "code",
   "execution_count": 11,
   "metadata": {},
   "outputs": [],
   "source": [
    "file = open('input.txt', 'r')\n",
    "lines = file.readlines()"
   ]
  },
  {
   "cell_type": "code",
   "execution_count": 12,
   "metadata": {},
   "outputs": [
    {
     "name": "stdout",
     "output_type": "stream",
     "text": [
      "63700\n"
     ]
    }
   ],
   "source": [
    "# solution b\n",
    "sum_powers = 0\n",
    "for line in lines:\n",
    "    linesplit = line[0:-1].split(':')\n",
    "\n",
    "    game_id = int(linesplit[0].split(' ')[1])\n",
    "    #print(game_id)\n",
    "\n",
    "    draws = linesplit[1].split(';')\n",
    "    #print(draws)\n",
    "\n",
    "    min_cubes = { 'red':0, 'green':0, 'blue':0 }\n",
    "    for draw in draws:\n",
    "        drawsplit = draw.split(',')\n",
    "        #print(draws)\n",
    "        for colors in drawsplit:\n",
    "            colorsplit = colors[1:].split(' ')\n",
    "            #print(colorsplit)\n",
    "            if(min_cubes[colorsplit[1]]<int(colorsplit[0])):\n",
    "                min_cubes[colorsplit[1]] = int(colorsplit[0])\n",
    "\n",
    "    # get power\n",
    "    power = 1\n",
    "    for value in min_cubes.values():\n",
    "        power *= value\n",
    "    sum_powers += power\n",
    "print(sum_powers)"
   ]
  }
 ],
 "metadata": {
  "kernelspec": {
   "display_name": "Python 3",
   "language": "python",
   "name": "python3"
  },
  "language_info": {
   "codemirror_mode": {
    "name": "ipython",
    "version": 3
   },
   "file_extension": ".py",
   "mimetype": "text/x-python",
   "name": "python",
   "nbconvert_exporter": "python",
   "pygments_lexer": "ipython3",
   "version": "3.10.9"
  }
 },
 "nbformat": 4,
 "nbformat_minor": 2
}
