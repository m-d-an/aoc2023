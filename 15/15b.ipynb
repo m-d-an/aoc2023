{
 "cells": [
  {
   "cell_type": "code",
   "execution_count": 100,
   "metadata": {},
   "outputs": [],
   "source": [
    "file = open('input.txt', 'r')\n",
    "input = file.readlines()\n",
    "file.close()"
   ]
  },
  {
   "cell_type": "code",
   "execution_count": 101,
   "metadata": {},
   "outputs": [],
   "source": [
    "def custom_hash(word):\n",
    "    current_value = 0\n",
    "    for c in word:\n",
    "        current_value += ord(c)\n",
    "        current_value *= 17\n",
    "        current_value = current_value % 256\n",
    "    return current_value\n"
   ]
  },
  {
   "cell_type": "code",
   "execution_count": 102,
   "metadata": {},
   "outputs": [],
   "source": [
    "boxes = {}\n",
    "for i in range(256):\n",
    "    box = {}\n",
    "    boxes[i] = box"
   ]
  },
  {
   "cell_type": "code",
   "execution_count": 103,
   "metadata": {},
   "outputs": [],
   "source": [
    "def print_boxes():\n",
    "    for i, box in enumerate(boxes):\n",
    "        if len(boxes[box]) > 0:\n",
    "            print(f\"Box {i}: {boxes[box]}\")\n",
    "    print()"
   ]
  },
  {
   "cell_type": "code",
   "execution_count": 104,
   "metadata": {},
   "outputs": [],
   "source": [
    "def compute_focussing_power():\n",
    "    sum_focussing_power = 0\n",
    "    for i, box in enumerate(boxes):\n",
    "        if len(boxes[box]) > 0:\n",
    "            for j, lens in enumerate(boxes[box]):\n",
    "                sum_focussing_power += (i+1) * (j+1) * boxes[box][lens]\n",
    "    return sum_focussing_power"
   ]
  },
  {
   "cell_type": "code",
   "execution_count": 105,
   "metadata": {},
   "outputs": [
    {
     "name": "stdout",
     "output_type": "stream",
     "text": [
      "286278\n"
     ]
    }
   ],
   "source": [
    "for command in input[0].strip().split(','):\n",
    "    focal_length = -1\n",
    "    \n",
    "    if '=' in command:\n",
    "        split = command.split('=')\n",
    "        label = split[0]\n",
    "        focal_length = int(split[1])\n",
    "        add = True\n",
    "    else:\n",
    "        label = command.split('-')[0]\n",
    "        add = False\n",
    "    hash = custom_hash(label)   \n",
    "    \n",
    "    if add:\n",
    "        boxes[hash][label] = focal_length\n",
    "    else:\n",
    "        if label in boxes[hash]:\n",
    "            del boxes[hash][label]\n",
    "    #print(hash, label, focal_length)\n",
    "    #print_boxes()\n",
    "print(compute_focussing_power())\n"
   ]
  }
 ],
 "metadata": {
  "kernelspec": {
   "display_name": "Python 3",
   "language": "python",
   "name": "python3"
  },
  "language_info": {
   "codemirror_mode": {
    "name": "ipython",
    "version": 3
   },
   "file_extension": ".py",
   "mimetype": "text/x-python",
   "name": "python",
   "nbconvert_exporter": "python",
   "pygments_lexer": "ipython3",
   "version": "3.10.9"
  }
 },
 "nbformat": 4,
 "nbformat_minor": 2
}
