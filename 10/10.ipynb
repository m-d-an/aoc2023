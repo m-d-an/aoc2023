{
 "cells": [
  {
   "cell_type": "code",
   "execution_count": 1,
   "metadata": {},
   "outputs": [],
   "source": [
    "file = open('input.txt', 'r')\n",
    "input = file.readlines()\n",
    "file.close()"
   ]
  },
  {
   "cell_type": "code",
   "execution_count": 2,
   "metadata": {},
   "outputs": [],
   "source": [
    "#dictionary with coordinates, labels and connections\n",
    "pipe_maze = {}"
   ]
  },
  {
   "cell_type": "code",
   "execution_count": 3,
   "metadata": {},
   "outputs": [],
   "source": [
    "#dictionary with path lengths\n",
    "path_length = {}"
   ]
  },
  {
   "cell_type": "code",
   "execution_count": 4,
   "metadata": {},
   "outputs": [],
   "source": [
    "def print_maze(maze, distances=False):\n",
    "    for i in range(len(input)):\n",
    "        line = \"\"\n",
    "        for j in range(len(input[0].strip())):\n",
    "            if (i,j) not in maze.keys():\n",
    "                line += '.'\n",
    "            else:\n",
    "                if distances:\n",
    "                    line += str(path_length[(i,j)])\n",
    "                else:\n",
    "                    line += maze[(i,j)][0]\n",
    "        print(line)"
   ]
  },
  {
   "cell_type": "code",
   "execution_count": 5,
   "metadata": {},
   "outputs": [],
   "source": [
    "#build pipe maze\n",
    "starting_coord = None\n",
    "for i, line in enumerate(input):\n",
    "    for j, character in enumerate(line.strip()):\n",
    "        coord = (i,j)\n",
    "        #print(coord, character)\n",
    "        if character == '.':\n",
    "            continue\n",
    "        elif character == 'F':\n",
    "            connection1 = (coord[0]+1,coord[1])\n",
    "            connection2 = (coord[0],coord[1]+1)\n",
    "        elif character == '-':\n",
    "            connection1 = (coord[0],coord[1]-1)\n",
    "            connection2 = (coord[0],coord[1]+1)        \n",
    "        elif character == '7':\n",
    "            connection1 = (coord[0],coord[1]-1)\n",
    "            connection2 = (coord[0]+1,coord[1])\n",
    "        elif character == '|':\n",
    "            connection1 = (coord[0]+1,coord[1])\n",
    "            connection2 = (coord[0]-1,coord[1])                   \n",
    "        elif character == 'L':\n",
    "            connection1 = (coord[0]-1,coord[1])\n",
    "            connection2 = (coord[0],coord[1]+1)   \n",
    "        elif character == 'J':\n",
    "            connection1 = (coord[0]-1,coord[1])\n",
    "            connection2 = (coord[0],coord[1]-1)\n",
    "        elif character == 'S':\n",
    "            starting_coord = coord\n",
    "            connection1 = None\n",
    "            connection2 = None\n",
    "        else:\n",
    "            continue\n",
    "        pipe_maze[coord] = (character, connection1, connection2)"
   ]
  },
  {
   "cell_type": "code",
   "execution_count": 6,
   "metadata": {},
   "outputs": [],
   "source": [
    "#set starting point connections\n",
    "if not starting_coord == None:\n",
    "    connections = []\n",
    "    #check left\n",
    "    left = (starting_coord[0],starting_coord[1]-1)\n",
    "    if left in pipe_maze.keys():\n",
    "        if pipe_maze[left][0] in ['L','-','F']:\n",
    "            connections.append(left)\n",
    "    #check right\n",
    "    right = (starting_coord[0],starting_coord[1]+1)\n",
    "    if right in pipe_maze.keys():\n",
    "        if pipe_maze[right][0] in ['J','-','7']:\n",
    "            connections.append(right)    \n",
    "    #check up\n",
    "    up = (starting_coord[0]-1,starting_coord[1])\n",
    "    if up in pipe_maze.keys():\n",
    "        if pipe_maze[up][0] in ['7','|', 'F']:\n",
    "            connections.append(up)\n",
    "    #check down\n",
    "    down = (starting_coord[0]+1,starting_coord[1])\n",
    "    if down in pipe_maze.keys():\n",
    "        if pipe_maze[down][0] in ['J','|', 'L']:\n",
    "            connections.append(down)\n",
    "    pipe_maze[starting_coord] = ('S',connections[0], connections[1])\n"
   ]
  },
  {
   "cell_type": "code",
   "execution_count": 7,
   "metadata": {},
   "outputs": [],
   "source": [
    "#print_maze(pipe_maze)"
   ]
  },
  {
   "cell_type": "code",
   "execution_count": 8,
   "metadata": {},
   "outputs": [],
   "source": [
    "#traverse maze starting with 'S' (starting_coord)\n",
    "def take_path(source, dest):\n",
    "    distance = 1\n",
    "    while True:\n",
    "        if dest in path_length.keys(): \n",
    "            if distance >= path_length[dest]:\n",
    "                return\n",
    "        path_length[dest] = distance\n",
    "        if pipe_maze[dest][1] != source:\n",
    "            source = dest\n",
    "            dest = pipe_maze[dest][1]\n",
    "        else:\n",
    "            source = dest\n",
    "            dest = pipe_maze[dest][2]\n",
    "        distance += 1\n",
    "    return"
   ]
  },
  {
   "cell_type": "code",
   "execution_count": 9,
   "metadata": {},
   "outputs": [
    {
     "name": "stdout",
     "output_type": "stream",
     "text": [
      "6828\n"
     ]
    }
   ],
   "source": [
    "path_length[starting_coord] = 0\n",
    "take_path(starting_coord, pipe_maze[starting_coord][1])\n",
    "take_path(starting_coord, pipe_maze[starting_coord][2])\n",
    "#print_maze(pipe_maze, True)\n",
    "print(max(path_length.values()))"
   ]
  }
 ],
 "metadata": {
  "kernelspec": {
   "display_name": "Python 3",
   "language": "python",
   "name": "python3"
  },
  "language_info": {
   "codemirror_mode": {
    "name": "ipython",
    "version": 3
   },
   "file_extension": ".py",
   "mimetype": "text/x-python",
   "name": "python",
   "nbconvert_exporter": "python",
   "pygments_lexer": "ipython3",
   "version": "3.10.9"
  }
 },
 "nbformat": 4,
 "nbformat_minor": 2
}
