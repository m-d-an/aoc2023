{
 "cells": [
  {
   "cell_type": "code",
   "execution_count": 17,
   "metadata": {},
   "outputs": [],
   "source": [
    "import functools"
   ]
  },
  {
   "cell_type": "code",
   "execution_count": 18,
   "metadata": {},
   "outputs": [],
   "source": [
    "file = open('input.txt', 'r')\n",
    "input = file.readlines()\n",
    "file.close()"
   ]
  },
  {
   "cell_type": "code",
   "execution_count": 19,
   "metadata": {},
   "outputs": [],
   "source": [
    "def print_grid(grid):\n",
    "    for i in range(len(input)):\n",
    "        line = \"\"\n",
    "        for j in range(len(input[0].strip())):\n",
    "            line += str(grid[(i,j)])\n",
    "        print(line)\n",
    "    print()\n"
   ]
  },
  {
   "cell_type": "code",
   "execution_count": 20,
   "metadata": {},
   "outputs": [],
   "source": [
    "grid = {}\n",
    "i_len = len(input)\n",
    "j_len = len(input[0].strip())\n",
    "for i,line in enumerate(input):\n",
    "    for j, c in enumerate(line.strip()):\n",
    "        grid[(i,j)] = int(c)\n",
    "#print_grid(grid)\n"
   ]
  },
  {
   "cell_type": "code",
   "execution_count": 21,
   "metadata": {},
   "outputs": [],
   "source": [
    "@functools.lru_cache(maxsize=None)\n",
    "def get_candidates(pos, last_dir = None, steps=1):\n",
    "    candidates = []\n",
    "    \n",
    "    if last_dir != 'down':\n",
    "        #up\n",
    "        if not (last_dir == 'up' and steps == 3):\n",
    "            if last_dir == 'up':\n",
    "                candidates.append(((pos[0]-1,pos[1]),'up',steps+1))\n",
    "            else:\n",
    "                candidates.append(((pos[0]-1,pos[1]),'up',1))\n",
    "    if last_dir != 'up':\n",
    "        #down\n",
    "        if not (last_dir == 'down' and steps == 3):\n",
    "            if last_dir == 'down':\n",
    "                candidates.append(((pos[0]+1,pos[1]),'down',steps+1))\n",
    "            else:\n",
    "                candidates.append(((pos[0]+1,pos[1]),'down',1))\n",
    "    if last_dir != 'right':\n",
    "        #left\n",
    "        if not (last_dir == 'left' and steps == 3):\n",
    "            if last_dir == 'left':\n",
    "                candidates.append(((pos[0],pos[1]-1),'left',steps+1))\n",
    "            else:\n",
    "                candidates.append(((pos[0],pos[1]-1),'left',1))\n",
    "    if last_dir != 'left':\n",
    "        #right\n",
    "        if not (last_dir == 'right' and steps == 3):\n",
    "            if last_dir == 'right':\n",
    "                candidates.append(((pos[0],pos[1]+1),'right',steps+1))\n",
    "            else:\n",
    "                candidates.append(((pos[0],pos[1]+1),'right',1))\n",
    "\n",
    "    #check if in grid\n",
    "    valid_candidates = {}\n",
    "    for candidate in candidates:\n",
    "        if candidate[0] in grid.keys():\n",
    "            valid_candidates[candidate[0]] = (grid[candidate[0]],candidate[1], candidate[2])\n",
    "    valid_candidates = dict(sorted(valid_candidates.items(), key=lambda item: item[1]))\n",
    "    return valid_candidates \n"
   ]
  },
  {
   "cell_type": "code",
   "execution_count": 22,
   "metadata": {},
   "outputs": [],
   "source": [
    "lowest_heat_loss = {}"
   ]
  },
  {
   "cell_type": "code",
   "execution_count": 23,
   "metadata": {},
   "outputs": [],
   "source": [
    "def check_paths(pos, heat_loss, last_dir=None, steps=1):\n",
    "    #print(f\"check_paths({pos},{heat_loss},{last_dir},{steps})\")\n",
    "    if heat_loss > 900:\n",
    "        #limit recursion depth to reduce runtime\n",
    "        return\n",
    "    candidates = get_candidates(pos, last_dir, steps)\n",
    "    #print(candidates)\n",
    "    for coord in candidates.keys():\n",
    "        new_heat_loss = heat_loss + grid[coord]\n",
    "        if (coord, candidates[coord][1], candidates[coord][2]) not in lowest_heat_loss.keys() or new_heat_loss < lowest_heat_loss[(coord,candidates[coord][1], candidates[coord][2])]:\n",
    "            lowest_heat_loss[(coord, candidates[coord][1], candidates[coord][2])] = new_heat_loss\n",
    "            check_paths(coord, new_heat_loss, candidates[coord][1], candidates[coord][2])\n",
    "        #print(lowest_heat_loss)\n",
    "    return"
   ]
  },
  {
   "cell_type": "code",
   "execution_count": 24,
   "metadata": {},
   "outputs": [
    {
     "name": "stdout",
     "output_type": "stream",
     "text": [
      "((140, 140), 'right', 3) 857\n",
      "((140, 140), 'right', 2) 857\n",
      "((140, 140), 'right', 1) 857\n",
      "((140, 140), 'down', 1) 857\n",
      "((140, 140), 'down', 2) 857\n",
      "((140, 140), 'down', 3) 855\n"
     ]
    },
    {
     "data": {
      "text/plain": [
       "855"
      ]
     },
     "execution_count": 24,
     "metadata": {},
     "output_type": "execute_result"
    }
   ],
   "source": [
    "check_paths((0,0),0)\n",
    "hl = []\n",
    "for item in lowest_heat_loss:\n",
    "    if item[0] == (i_len-1, j_len-1):\n",
    "        hl.append(lowest_heat_loss[item])\n",
    "        print(item, lowest_heat_loss[item])\n",
    "min(hl)"
   ]
  }
 ],
 "metadata": {
  "kernelspec": {
   "display_name": "Python 3",
   "language": "python",
   "name": "python3"
  },
  "language_info": {
   "codemirror_mode": {
    "name": "ipython",
    "version": 3
   },
   "file_extension": ".py",
   "mimetype": "text/x-python",
   "name": "python",
   "nbconvert_exporter": "python",
   "pygments_lexer": "ipython3",
   "version": "3.10.9"
  }
 },
 "nbformat": 4,
 "nbformat_minor": 2
}
