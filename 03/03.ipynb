{
 "cells": [
  {
   "cell_type": "code",
   "execution_count": 281,
   "metadata": {},
   "outputs": [],
   "source": [
    "file = open('input.txt', 'r')\n",
    "input = file.readlines()\n",
    "file.close()"
   ]
  },
  {
   "cell_type": "code",
   "execution_count": 282,
   "metadata": {},
   "outputs": [],
   "source": [
    "# grids with coordinates\n",
    "number_grid = {}\n",
    "symbol_grid = {}\n",
    "asterisk_neighbors = {}"
   ]
  },
  {
   "cell_type": "code",
   "execution_count": 283,
   "metadata": {},
   "outputs": [],
   "source": [
    "# read data\n",
    "for i, line in enumerate(input):\n",
    "    last_number = False\n",
    "    for j, c in enumerate(line.strip()):\n",
    "        if c == '.':\n",
    "            last_number = False\n",
    "            continue\n",
    "        elif c.isdigit():\n",
    "            if not last_number:\n",
    "                last_number = (i,j)\n",
    "                number_grid[last_number] = c\n",
    "            else:\n",
    "                number_grid[last_number] = number_grid[last_number] + c\n",
    "        else:\n",
    "            symbol_grid[(i,j)] = c\n",
    "            last_number = False"
   ]
  },
  {
   "cell_type": "code",
   "execution_count": 284,
   "metadata": {},
   "outputs": [],
   "source": [
    "def check_for_symbol(coords):\n",
    "    number = number_grid[coords]\n",
    "    number_size = len(number)\n",
    "    has_symbol_neighbor = False\n",
    "    for i in range(coords[0]-1,coords[0]+2):\n",
    "        for j in range(coords[1]-1,coords[1]+number_size+1):\n",
    "            if (i,j) in symbol_grid:\n",
    "                if(symbol_grid[(i,j)]=='*'):\n",
    "                    if (i,j) in asterisk_neighbors:\n",
    "                        asterisk_neighbors[(i,j)].append(int(number))\n",
    "                    else:\n",
    "                        asterisk_neighbors[(i,j)] = [int(number)]\n",
    "                has_symbol_neighbor = True\n",
    "    return has_symbol_neighbor"
   ]
  },
  {
   "cell_type": "code",
   "execution_count": 285,
   "metadata": {},
   "outputs": [
    {
     "name": "stdout",
     "output_type": "stream",
     "text": [
      "527144\n"
     ]
    }
   ],
   "source": [
    "# solution a\n",
    "sum_numbers = 0\n",
    "for coords in number_grid:\n",
    "    if check_for_symbol(coords):\n",
    "        sum_numbers += int(number_grid[coords])\n",
    "print(sum_numbers)"
   ]
  },
  {
   "cell_type": "code",
   "execution_count": 286,
   "metadata": {},
   "outputs": [
    {
     "name": "stdout",
     "output_type": "stream",
     "text": [
      "81463996\n"
     ]
    }
   ],
   "source": [
    "# solution b\n",
    "sum_ratios = 0\n",
    "for v in asterisk_neighbors.values():\n",
    "    if (len(v) == 2):\n",
    "        sum_ratios += (v[0] * v[1])\n",
    "print(sum_ratios)"
   ]
  }
 ],
 "metadata": {
  "kernelspec": {
   "display_name": "Python 3",
   "language": "python",
   "name": "python3"
  },
  "language_info": {
   "codemirror_mode": {
    "name": "ipython",
    "version": 3
   },
   "file_extension": ".py",
   "mimetype": "text/x-python",
   "name": "python",
   "nbconvert_exporter": "python",
   "pygments_lexer": "ipython3",
   "version": "3.10.9"
  }
 },
 "nbformat": 4,
 "nbformat_minor": 2
}
