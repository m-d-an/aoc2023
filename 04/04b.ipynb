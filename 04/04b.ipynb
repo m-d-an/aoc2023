{
 "cells": [
  {
   "cell_type": "code",
   "execution_count": 50,
   "metadata": {},
   "outputs": [],
   "source": [
    "file = open('input.txt', 'r')\n",
    "input = file.readlines()\n",
    "file.close()"
   ]
  },
  {
   "cell_type": "code",
   "execution_count": 51,
   "metadata": {},
   "outputs": [],
   "source": [
    "# list of scratchcard counts\n",
    "scratchcard_counts = []\n",
    "# initialize\n",
    "for i in range(len(input)):\n",
    "    scratchcard_counts.append(1)"
   ]
  },
  {
   "cell_type": "code",
   "execution_count": 52,
   "metadata": {},
   "outputs": [
    {
     "name": "stdout",
     "output_type": "stream",
     "text": [
      "14814534\n"
     ]
    }
   ],
   "source": [
    "# solution b\n",
    "for line in input:\n",
    "    id = int(line.strip().split(':')[0].split(' ')[-1])\n",
    "    numbers = line.strip().split(':')[1].split('|')\n",
    "    winning_numbers = numbers[0].strip().split(' ')\n",
    "    # filter '' values\n",
    "    winning_numbers = [i for i in winning_numbers if i != '']\n",
    "    scratchcard_numbers = numbers[1].strip().split(' ')\n",
    "    scratchcard_numbers = [i for i in scratchcard_numbers if i !='']\n",
    "    # lenght of intersection set between two sets\n",
    "    same_number_count = len(set(winning_numbers) & set(scratchcard_numbers))\n",
    "    if(same_number_count > 0):\n",
    "        for i in range(id, id+same_number_count, 1):\n",
    "            #print(i)\n",
    "            scratchcard_counts[i] = scratchcard_counts[i] + (scratchcard_counts[id-1])\n",
    "print(sum(scratchcard_counts))\n"
   ]
  }
 ],
 "metadata": {
  "kernelspec": {
   "display_name": "Python 3",
   "language": "python",
   "name": "python3"
  },
  "language_info": {
   "codemirror_mode": {
    "name": "ipython",
    "version": 3
   },
   "file_extension": ".py",
   "mimetype": "text/x-python",
   "name": "python",
   "nbconvert_exporter": "python",
   "pygments_lexer": "ipython3",
   "version": "3.10.9"
  }
 },
 "nbformat": 4,
 "nbformat_minor": 2
}
