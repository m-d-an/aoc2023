{
 "cells": [
  {
   "cell_type": "code",
   "execution_count": 81,
   "metadata": {},
   "outputs": [],
   "source": [
    "file = open('example.txt', 'r')\n",
    "input = file.readlines()\n",
    "file.close()"
   ]
  },
  {
   "cell_type": "code",
   "execution_count": 82,
   "metadata": {},
   "outputs": [
    {
     "name": "stdout",
     "output_type": "stream",
     "text": [
      "Sum: 33950\n"
     ]
    }
   ],
   "source": [
    "# solution a\n",
    "sum = 0\n",
    "for line in input:\n",
    "    numbers = line.strip().split(':')[1].split('|')\n",
    "    winning_numbers = numbers[0].strip().split(' ')\n",
    "    # filter '' values\n",
    "    winning_numbers = [i for i in winning_numbers if i != '']\n",
    "    scratchcard_numbers = numbers[1].strip().split(' ')\n",
    "    scratchcard_numbers = [i for i in scratchcard_numbers if i !='']\n",
    "    # lenght of intersection set between two sets\n",
    "    same_number_count = len(set(winning_numbers) & set(scratchcard_numbers))\n",
    "    if (same_number_count==0):\n",
    "        points = 0\n",
    "    else:\n",
    "        points = 2 ** (same_number_count-1)\n",
    "    sum += points\n",
    "print(\"Sum: \"+str(sum))"
   ]
  }
 ],
 "metadata": {
  "kernelspec": {
   "display_name": "Python 3",
   "language": "python",
   "name": "python3"
  },
  "language_info": {
   "codemirror_mode": {
    "name": "ipython",
    "version": 3
   },
   "file_extension": ".py",
   "mimetype": "text/x-python",
   "name": "python",
   "nbconvert_exporter": "python",
   "pygments_lexer": "ipython3",
   "version": "3.10.9"
  }
 },
 "nbformat": 4,
 "nbformat_minor": 2
}
